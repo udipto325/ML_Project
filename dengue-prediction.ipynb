{
 "cells": [
  {
   "cell_type": "code",
   "execution_count": 1,
   "id": "8911f3ae",
   "metadata": {
    "execution": {
     "iopub.execute_input": "2024-06-07T05:26:03.205569Z",
     "iopub.status.busy": "2024-06-07T05:26:03.205087Z",
     "iopub.status.idle": "2024-06-07T05:26:05.967094Z",
     "shell.execute_reply": "2024-06-07T05:26:05.965553Z"
    },
    "papermill": {
     "duration": 2.781349,
     "end_time": "2024-06-07T05:26:05.970525",
     "exception": false,
     "start_time": "2024-06-07T05:26:03.189176",
     "status": "completed"
    },
    "tags": []
   },
   "outputs": [],
   "source": [
    "# Importing the modules\n",
    "from glob import glob\n",
    "import pandas as pd\n",
    "import numpy as np\n",
    "from matplotlib import pyplot as plt\n",
    "import seaborn as sns"
   ]
  },
  {
   "cell_type": "code",
   "execution_count": 2,
   "id": "6c077b73",
   "metadata": {
    "execution": {
     "iopub.execute_input": "2024-06-07T05:26:06.000017Z",
     "iopub.status.busy": "2024-06-07T05:26:05.999360Z",
     "iopub.status.idle": "2024-06-07T05:26:06.009635Z",
     "shell.execute_reply": "2024-06-07T05:26:06.008268Z"
    },
    "papermill": {
     "duration": 0.028233,
     "end_time": "2024-06-07T05:26:06.012574",
     "exception": false,
     "start_time": "2024-06-07T05:26:05.984341",
     "status": "completed"
    },
    "tags": []
   },
   "outputs": [
    {
     "data": {
      "text/plain": [
       "[]"
      ]
     },
     "execution_count": 2,
     "metadata": {},
     "output_type": "execute_result"
    }
   ],
   "source": [
    "glob('dataset/*.csv')"
   ]
  },
  {
   "cell_type": "code",
   "execution_count": 3,
   "id": "f8f543a2",
   "metadata": {
    "execution": {
     "iopub.execute_input": "2024-06-07T05:26:06.041691Z",
     "iopub.status.busy": "2024-06-07T05:26:06.041202Z",
     "iopub.status.idle": "2024-06-07T05:26:06.091389Z",
     "shell.execute_reply": "2024-06-07T05:26:06.089842Z"
    },
    "papermill": {
     "duration": 0.068394,
     "end_time": "2024-06-07T05:26:06.094463",
     "exception": false,
     "start_time": "2024-06-07T05:26:06.026069",
     "status": "completed"
    },
    "tags": []
   },
   "outputs": [
    {
     "name": "stdout",
     "output_type": "stream",
     "text": [
      "                      Rows     Columns\n",
      "Dengue Features       1456       24\n",
      "Dengue Labels         1456        4\n"
     ]
    }
   ],
   "source": [
    "dengue_features = pd.read_csv('/kaggle/input/dengue1/dengue_features_train.csv')\n",
    "dengue_labels = pd.read_csv('/kaggle/input/dengue1/dengue_labels_train.csv')\n",
    "\n",
    "print('{:>26} {:>11}'.format('Rows', 'Columns'))\n",
    "\n",
    "print('Dengue Features' + '{:>11} {:>8}'.format(dengue_features.shape[0], dengue_features.shape[1]))\n",
    "\n",
    "print('Dengue Labels' + '{:>13} {:>8}'.format(dengue_labels.shape[0], dengue_labels.shape[1]))"
   ]
  },
  {
   "cell_type": "code",
   "execution_count": 4,
   "id": "856773b2",
   "metadata": {
    "execution": {
     "iopub.execute_input": "2024-06-07T05:26:06.124060Z",
     "iopub.status.busy": "2024-06-07T05:26:06.123536Z",
     "iopub.status.idle": "2024-06-07T05:26:06.174347Z",
     "shell.execute_reply": "2024-06-07T05:26:06.172915Z"
    },
    "papermill": {
     "duration": 0.069026,
     "end_time": "2024-06-07T05:26:06.177314",
     "exception": false,
     "start_time": "2024-06-07T05:26:06.108288",
     "status": "completed"
    },
    "tags": []
   },
   "outputs": [
    {
     "data": {
      "text/html": [
       "<div>\n",
       "<style scoped>\n",
       "    .dataframe tbody tr th:only-of-type {\n",
       "        vertical-align: middle;\n",
       "    }\n",
       "\n",
       "    .dataframe tbody tr th {\n",
       "        vertical-align: top;\n",
       "    }\n",
       "\n",
       "    .dataframe thead th {\n",
       "        text-align: right;\n",
       "    }\n",
       "</style>\n",
       "<table border=\"1\" class=\"dataframe\">\n",
       "  <thead>\n",
       "    <tr style=\"text-align: right;\">\n",
       "      <th></th>\n",
       "      <th>city</th>\n",
       "      <th>year</th>\n",
       "      <th>weekofyear</th>\n",
       "      <th>week_start_date</th>\n",
       "      <th>ndvi_ne</th>\n",
       "      <th>ndvi_nw</th>\n",
       "      <th>ndvi_se</th>\n",
       "      <th>ndvi_sw</th>\n",
       "      <th>precipitation_amt_mm</th>\n",
       "      <th>reanalysis_air_temp_k</th>\n",
       "      <th>...</th>\n",
       "      <th>reanalysis_precip_amt_kg_per_m2</th>\n",
       "      <th>reanalysis_relative_humidity_percent</th>\n",
       "      <th>reanalysis_sat_precip_amt_mm</th>\n",
       "      <th>reanalysis_specific_humidity_g_per_kg</th>\n",
       "      <th>reanalysis_tdtr_k</th>\n",
       "      <th>station_avg_temp_c</th>\n",
       "      <th>station_diur_temp_rng_c</th>\n",
       "      <th>station_max_temp_c</th>\n",
       "      <th>station_min_temp_c</th>\n",
       "      <th>station_precip_mm</th>\n",
       "    </tr>\n",
       "  </thead>\n",
       "  <tbody>\n",
       "    <tr>\n",
       "      <th>0</th>\n",
       "      <td>sj</td>\n",
       "      <td>1990</td>\n",
       "      <td>18</td>\n",
       "      <td>1990-04-30</td>\n",
       "      <td>0.122600</td>\n",
       "      <td>0.103725</td>\n",
       "      <td>0.198483</td>\n",
       "      <td>0.177617</td>\n",
       "      <td>12.42</td>\n",
       "      <td>297.572857</td>\n",
       "      <td>...</td>\n",
       "      <td>32.00</td>\n",
       "      <td>73.365714</td>\n",
       "      <td>12.42</td>\n",
       "      <td>14.012857</td>\n",
       "      <td>2.628571</td>\n",
       "      <td>25.442857</td>\n",
       "      <td>6.900000</td>\n",
       "      <td>29.4</td>\n",
       "      <td>20.0</td>\n",
       "      <td>16.0</td>\n",
       "    </tr>\n",
       "    <tr>\n",
       "      <th>1</th>\n",
       "      <td>sj</td>\n",
       "      <td>1990</td>\n",
       "      <td>19</td>\n",
       "      <td>1990-05-07</td>\n",
       "      <td>0.169900</td>\n",
       "      <td>0.142175</td>\n",
       "      <td>0.162357</td>\n",
       "      <td>0.155486</td>\n",
       "      <td>22.82</td>\n",
       "      <td>298.211429</td>\n",
       "      <td>...</td>\n",
       "      <td>17.94</td>\n",
       "      <td>77.368571</td>\n",
       "      <td>22.82</td>\n",
       "      <td>15.372857</td>\n",
       "      <td>2.371429</td>\n",
       "      <td>26.714286</td>\n",
       "      <td>6.371429</td>\n",
       "      <td>31.7</td>\n",
       "      <td>22.2</td>\n",
       "      <td>8.6</td>\n",
       "    </tr>\n",
       "    <tr>\n",
       "      <th>2</th>\n",
       "      <td>sj</td>\n",
       "      <td>1990</td>\n",
       "      <td>20</td>\n",
       "      <td>1990-05-14</td>\n",
       "      <td>0.032250</td>\n",
       "      <td>0.172967</td>\n",
       "      <td>0.157200</td>\n",
       "      <td>0.170843</td>\n",
       "      <td>34.54</td>\n",
       "      <td>298.781429</td>\n",
       "      <td>...</td>\n",
       "      <td>26.10</td>\n",
       "      <td>82.052857</td>\n",
       "      <td>34.54</td>\n",
       "      <td>16.848571</td>\n",
       "      <td>2.300000</td>\n",
       "      <td>26.714286</td>\n",
       "      <td>6.485714</td>\n",
       "      <td>32.2</td>\n",
       "      <td>22.8</td>\n",
       "      <td>41.4</td>\n",
       "    </tr>\n",
       "    <tr>\n",
       "      <th>3</th>\n",
       "      <td>sj</td>\n",
       "      <td>1990</td>\n",
       "      <td>21</td>\n",
       "      <td>1990-05-21</td>\n",
       "      <td>0.128633</td>\n",
       "      <td>0.245067</td>\n",
       "      <td>0.227557</td>\n",
       "      <td>0.235886</td>\n",
       "      <td>15.36</td>\n",
       "      <td>298.987143</td>\n",
       "      <td>...</td>\n",
       "      <td>13.90</td>\n",
       "      <td>80.337143</td>\n",
       "      <td>15.36</td>\n",
       "      <td>16.672857</td>\n",
       "      <td>2.428571</td>\n",
       "      <td>27.471429</td>\n",
       "      <td>6.771429</td>\n",
       "      <td>33.3</td>\n",
       "      <td>23.3</td>\n",
       "      <td>4.0</td>\n",
       "    </tr>\n",
       "    <tr>\n",
       "      <th>4</th>\n",
       "      <td>sj</td>\n",
       "      <td>1990</td>\n",
       "      <td>22</td>\n",
       "      <td>1990-05-28</td>\n",
       "      <td>0.196200</td>\n",
       "      <td>0.262200</td>\n",
       "      <td>0.251200</td>\n",
       "      <td>0.247340</td>\n",
       "      <td>7.52</td>\n",
       "      <td>299.518571</td>\n",
       "      <td>...</td>\n",
       "      <td>12.20</td>\n",
       "      <td>80.460000</td>\n",
       "      <td>7.52</td>\n",
       "      <td>17.210000</td>\n",
       "      <td>3.014286</td>\n",
       "      <td>28.942857</td>\n",
       "      <td>9.371429</td>\n",
       "      <td>35.0</td>\n",
       "      <td>23.9</td>\n",
       "      <td>5.8</td>\n",
       "    </tr>\n",
       "  </tbody>\n",
       "</table>\n",
       "<p>5 rows × 24 columns</p>\n",
       "</div>"
      ],
      "text/plain": [
       "  city  year  weekofyear week_start_date   ndvi_ne   ndvi_nw   ndvi_se  \\\n",
       "0   sj  1990          18      1990-04-30  0.122600  0.103725  0.198483   \n",
       "1   sj  1990          19      1990-05-07  0.169900  0.142175  0.162357   \n",
       "2   sj  1990          20      1990-05-14  0.032250  0.172967  0.157200   \n",
       "3   sj  1990          21      1990-05-21  0.128633  0.245067  0.227557   \n",
       "4   sj  1990          22      1990-05-28  0.196200  0.262200  0.251200   \n",
       "\n",
       "    ndvi_sw  precipitation_amt_mm  reanalysis_air_temp_k  ...  \\\n",
       "0  0.177617                 12.42             297.572857  ...   \n",
       "1  0.155486                 22.82             298.211429  ...   \n",
       "2  0.170843                 34.54             298.781429  ...   \n",
       "3  0.235886                 15.36             298.987143  ...   \n",
       "4  0.247340                  7.52             299.518571  ...   \n",
       "\n",
       "   reanalysis_precip_amt_kg_per_m2  reanalysis_relative_humidity_percent  \\\n",
       "0                            32.00                             73.365714   \n",
       "1                            17.94                             77.368571   \n",
       "2                            26.10                             82.052857   \n",
       "3                            13.90                             80.337143   \n",
       "4                            12.20                             80.460000   \n",
       "\n",
       "   reanalysis_sat_precip_amt_mm  reanalysis_specific_humidity_g_per_kg  \\\n",
       "0                         12.42                              14.012857   \n",
       "1                         22.82                              15.372857   \n",
       "2                         34.54                              16.848571   \n",
       "3                         15.36                              16.672857   \n",
       "4                          7.52                              17.210000   \n",
       "\n",
       "   reanalysis_tdtr_k  station_avg_temp_c  station_diur_temp_rng_c  \\\n",
       "0           2.628571           25.442857                 6.900000   \n",
       "1           2.371429           26.714286                 6.371429   \n",
       "2           2.300000           26.714286                 6.485714   \n",
       "3           2.428571           27.471429                 6.771429   \n",
       "4           3.014286           28.942857                 9.371429   \n",
       "\n",
       "   station_max_temp_c  station_min_temp_c  station_precip_mm  \n",
       "0                29.4                20.0               16.0  \n",
       "1                31.7                22.2                8.6  \n",
       "2                32.2                22.8               41.4  \n",
       "3                33.3                23.3                4.0  \n",
       "4                35.0                23.9                5.8  \n",
       "\n",
       "[5 rows x 24 columns]"
      ]
     },
     "execution_count": 4,
     "metadata": {},
     "output_type": "execute_result"
    }
   ],
   "source": [
    "dengue_features.head()"
   ]
  },
  {
   "cell_type": "code",
   "execution_count": 5,
   "id": "2b22b17e",
   "metadata": {
    "execution": {
     "iopub.execute_input": "2024-06-07T05:26:06.209555Z",
     "iopub.status.busy": "2024-06-07T05:26:06.209099Z",
     "iopub.status.idle": "2024-06-07T05:26:06.223506Z",
     "shell.execute_reply": "2024-06-07T05:26:06.222178Z"
    },
    "papermill": {
     "duration": 0.034277,
     "end_time": "2024-06-07T05:26:06.226243",
     "exception": false,
     "start_time": "2024-06-07T05:26:06.191966",
     "status": "completed"
    },
    "tags": []
   },
   "outputs": [
    {
     "data": {
      "text/html": [
       "<div>\n",
       "<style scoped>\n",
       "    .dataframe tbody tr th:only-of-type {\n",
       "        vertical-align: middle;\n",
       "    }\n",
       "\n",
       "    .dataframe tbody tr th {\n",
       "        vertical-align: top;\n",
       "    }\n",
       "\n",
       "    .dataframe thead th {\n",
       "        text-align: right;\n",
       "    }\n",
       "</style>\n",
       "<table border=\"1\" class=\"dataframe\">\n",
       "  <thead>\n",
       "    <tr style=\"text-align: right;\">\n",
       "      <th></th>\n",
       "      <th>city</th>\n",
       "      <th>year</th>\n",
       "      <th>weekofyear</th>\n",
       "      <th>total_cases</th>\n",
       "    </tr>\n",
       "  </thead>\n",
       "  <tbody>\n",
       "    <tr>\n",
       "      <th>0</th>\n",
       "      <td>sj</td>\n",
       "      <td>1990</td>\n",
       "      <td>18</td>\n",
       "      <td>4</td>\n",
       "    </tr>\n",
       "    <tr>\n",
       "      <th>1</th>\n",
       "      <td>sj</td>\n",
       "      <td>1990</td>\n",
       "      <td>19</td>\n",
       "      <td>5</td>\n",
       "    </tr>\n",
       "    <tr>\n",
       "      <th>2</th>\n",
       "      <td>sj</td>\n",
       "      <td>1990</td>\n",
       "      <td>20</td>\n",
       "      <td>4</td>\n",
       "    </tr>\n",
       "    <tr>\n",
       "      <th>3</th>\n",
       "      <td>sj</td>\n",
       "      <td>1990</td>\n",
       "      <td>21</td>\n",
       "      <td>3</td>\n",
       "    </tr>\n",
       "    <tr>\n",
       "      <th>4</th>\n",
       "      <td>sj</td>\n",
       "      <td>1990</td>\n",
       "      <td>22</td>\n",
       "      <td>6</td>\n",
       "    </tr>\n",
       "  </tbody>\n",
       "</table>\n",
       "</div>"
      ],
      "text/plain": [
       "  city  year  weekofyear  total_cases\n",
       "0   sj  1990          18            4\n",
       "1   sj  1990          19            5\n",
       "2   sj  1990          20            4\n",
       "3   sj  1990          21            3\n",
       "4   sj  1990          22            6"
      ]
     },
     "execution_count": 5,
     "metadata": {},
     "output_type": "execute_result"
    }
   ],
   "source": [
    "dengue_labels.head()"
   ]
  },
  {
   "cell_type": "code",
   "execution_count": 6,
   "id": "b33b23bc",
   "metadata": {
    "execution": {
     "iopub.execute_input": "2024-06-07T05:26:06.257008Z",
     "iopub.status.busy": "2024-06-07T05:26:06.256541Z",
     "iopub.status.idle": "2024-06-07T05:26:06.264427Z",
     "shell.execute_reply": "2024-06-07T05:26:06.262971Z"
    },
    "papermill": {
     "duration": 0.028238,
     "end_time": "2024-06-07T05:26:06.268770",
     "exception": false,
     "start_time": "2024-06-07T05:26:06.240532",
     "status": "completed"
    },
    "tags": []
   },
   "outputs": [
    {
     "name": "stderr",
     "output_type": "stream",
     "text": [
      "/tmp/ipykernel_18/724400076.py:1: MatplotlibDeprecationWarning: The seaborn styles shipped by Matplotlib are deprecated since 3.6, as they no longer correspond to the styles shipped by seaborn. However, they will remain available as 'seaborn-v0_8-<style>'. Alternatively, directly use the seaborn API instead.\n",
      "  plt.style.use('seaborn') # Setting plot style\n"
     ]
    }
   ],
   "source": [
    "plt.style.use('seaborn') # Setting plot style\n",
    "\n",
    "plt.rcParams['figure.figsize'] = [10, 8] # Setting plot size"
   ]
  },
  {
   "cell_type": "code",
   "execution_count": 7,
   "id": "29932d49",
   "metadata": {
    "execution": {
     "iopub.execute_input": "2024-06-07T05:26:06.300413Z",
     "iopub.status.busy": "2024-06-07T05:26:06.299920Z",
     "iopub.status.idle": "2024-06-07T05:26:06.944696Z",
     "shell.execute_reply": "2024-06-07T05:26:06.943321Z"
    },
    "papermill": {
     "duration": 0.665148,
     "end_time": "2024-06-07T05:26:06.948415",
     "exception": false,
     "start_time": "2024-06-07T05:26:06.283267",
     "status": "completed"
    },
    "tags": []
   },
   "outputs": [
    {
     "data": {
      "image/png": "[encoded data removed]",
      "text/plain": [
       "<Figure size 1000x800 with 1 Axes>"
      ]
     },
     "metadata": {},
     "output_type": "display_data"
    }
   ],
   "source": [
    "year_max_cases = dengue_labels.groupby(['year'])['total_cases'].agg('sum')\n",
    "\n",
    "#Visualizing it\n",
    "year_max_cases.plot(kind='bar')\n",
    "plt.xlabel('Year')\n",
    "plt.ylabel('Total Cases of Dengue')\n",
    "plt.yticks(np.arange(0,7500, step=500))\n",
    "plt.show()"
   ]
  },
  {
   "cell_type": "code",
   "execution_count": 8,
   "id": "3fa5b9c5",
   "metadata": {
    "execution": {
     "iopub.execute_input": "2024-06-07T05:26:06.997116Z",
     "iopub.status.busy": "2024-06-07T05:26:06.995426Z",
     "iopub.status.idle": "2024-06-07T05:26:07.267967Z",
     "shell.execute_reply": "2024-06-07T05:26:07.266657Z"
    },
    "papermill": {
     "duration": 0.302567,
     "end_time": "2024-06-07T05:26:07.270755",
     "exception": false,
     "start_time": "2024-06-07T05:26:06.968188",
     "status": "completed"
    },
    "tags": []
   },
   "outputs": [
    {
     "data": {
      "image/png": "[encoded data removed]",
      "text/plain": [
       "<Figure size 1000x800 with 1 Axes>"
      ]
     },
     "metadata": {},
     "output_type": "display_data"
    }
   ],
   "source": [
    "city_affected = dengue_labels.groupby(['city'])['total_cases'].agg('sum')\n",
    "\n",
    "city_affected.plot(kind='bar')\n",
    "plt.rcParams['figure.figsize'] = [5, 5]\n",
    "plt.xlabel('City')\n",
    "plt.ylabel('Total Cases of Dengue')\n",
    "plt.show()"
   ]
  },
  {
   "cell_type": "code",
   "execution_count": 9,
   "id": "92af3250",
   "metadata": {
    "execution": {
     "iopub.execute_input": "2024-06-07T05:26:07.303295Z",
     "iopub.status.busy": "2024-06-07T05:26:07.302858Z",
     "iopub.status.idle": "2024-06-07T05:26:07.321007Z",
     "shell.execute_reply": "2024-06-07T05:26:07.319607Z"
    },
    "papermill": {
     "duration": 0.038089,
     "end_time": "2024-06-07T05:26:07.324137",
     "exception": false,
     "start_time": "2024-06-07T05:26:07.286048",
     "status": "completed"
    },
    "tags": []
   },
   "outputs": [
    {
     "name": "stdout",
     "output_type": "stream",
     "text": [
      "<class 'pandas.core.frame.DataFrame'>\n",
      "RangeIndex: 1456 entries, 0 to 1455\n",
      "Data columns (total 24 columns):\n",
      " #   Column                                 Non-Null Count  Dtype  \n",
      "---  ------                                 --------------  -----  \n",
      " 0   city                                   1456 non-null   object \n",
      " 1   year                                   1456 non-null   int64  \n",
      " 2   weekofyear                             1456 non-null   int64  \n",
      " 3   week_start_date                        1456 non-null   object \n",
      " 4   ndvi_ne                                1262 non-null   float64\n",
      " 5   ndvi_nw                                1404 non-null   float64\n",
      " 6   ndvi_se                                1434 non-null   float64\n",
      " 7   ndvi_sw                                1434 non-null   float64\n",
      " 8   precipitation_amt_mm                   1443 non-null   float64\n",
      " 9   reanalysis_air_temp_k                  1446 non-null   float64\n",
      " 10  reanalysis_avg_temp_k                  1446 non-null   float64\n",
      " 11  reanalysis_dew_point_temp_k            1446 non-null   float64\n",
      " 12  reanalysis_max_air_temp_k              1446 non-null   float64\n",
      " 13  reanalysis_min_air_temp_k              1446 non-null   float64\n",
      " 14  reanalysis_precip_amt_kg_per_m2        1446 non-null   float64\n",
      " 15  reanalysis_relative_humidity_percent   1446 non-null   float64\n",
      " 16  reanalysis_sat_precip_amt_mm           1443 non-null   float64\n",
      " 17  reanalysis_specific_humidity_g_per_kg  1446 non-null   float64\n",
      " 18  reanalysis_tdtr_k                      1446 non-null   float64\n",
      " 19  station_avg_temp_c                     1413 non-null   float64\n",
      " 20  station_diur_temp_rng_c                1413 non-null   float64\n",
      " 21  station_max_temp_c                     1436 non-null   float64\n",
      " 22  station_min_temp_c                     1442 non-null   float64\n",
      " 23  station_precip_mm                      1434 non-null   float64\n",
      "dtypes: float64(20), int64(2), object(2)\n",
      "memory usage: 273.1+ KB\n"
     ]
    }
   ],
   "source": [
    "dengue_features.info()"
   ]
  },
  {
   "cell_type": "code",
   "execution_count": 10,
   "id": "fa9dbc28",
   "metadata": {
    "execution": {
     "iopub.execute_input": "2024-06-07T05:26:07.358018Z",
     "iopub.status.busy": "2024-06-07T05:26:07.357559Z",
     "iopub.status.idle": "2024-06-07T05:26:07.368736Z",
     "shell.execute_reply": "2024-06-07T05:26:07.367562Z"
    },
    "papermill": {
     "duration": 0.031191,
     "end_time": "2024-06-07T05:26:07.371113",
     "exception": false,
     "start_time": "2024-06-07T05:26:07.339922",
     "status": "completed"
    },
    "tags": []
   },
   "outputs": [
    {
     "data": {
      "text/plain": [
       "city                                       0\n",
       "year                                       0\n",
       "weekofyear                                 0\n",
       "week_start_date                            0\n",
       "ndvi_ne                                  194\n",
       "ndvi_nw                                   52\n",
       "ndvi_se                                   22\n",
       "ndvi_sw                                   22\n",
       "precipitation_amt_mm                      13\n",
       "reanalysis_air_temp_k                     10\n",
       "reanalysis_avg_temp_k                     10\n",
       "reanalysis_dew_point_temp_k               10\n",
       "reanalysis_max_air_temp_k                 10\n",
       "reanalysis_min_air_temp_k                 10\n",
       "reanalysis_precip_amt_kg_per_m2           10\n",
       "reanalysis_relative_humidity_percent      10\n",
       "reanalysis_sat_precip_amt_mm              13\n",
       "reanalysis_specific_humidity_g_per_kg     10\n",
       "reanalysis_tdtr_k                         10\n",
       "station_avg_temp_c                        43\n",
       "station_diur_temp_rng_c                   43\n",
       "station_max_temp_c                        20\n",
       "station_min_temp_c                        14\n",
       "station_precip_mm                         22\n",
       "dtype: int64"
      ]
     },
     "execution_count": 10,
     "metadata": {},
     "output_type": "execute_result"
    }
   ],
   "source": [
    "# Checking columns having null values\n",
    "dengue_features.isna().sum()"
   ]
  },
  {
   "cell_type": "code",
   "execution_count": 11,
   "id": "75ceaf3f",
   "metadata": {
    "execution": {
     "iopub.execute_input": "2024-06-07T05:26:07.407667Z",
     "iopub.status.busy": "2024-06-07T05:26:07.407228Z",
     "iopub.status.idle": "2024-06-07T05:26:07.417668Z",
     "shell.execute_reply": "2024-06-07T05:26:07.416614Z"
    },
    "papermill": {
     "duration": 0.031404,
     "end_time": "2024-06-07T05:26:07.420022",
     "exception": false,
     "start_time": "2024-06-07T05:26:07.388618",
     "status": "completed"
    },
    "tags": []
   },
   "outputs": [
    {
     "data": {
      "text/plain": [
       "['ndvi_ne',\n",
       " 'ndvi_nw',\n",
       " 'ndvi_se',\n",
       " 'ndvi_sw',\n",
       " 'precipitation_amt_mm',\n",
       " 'reanalysis_air_temp_k',\n",
       " 'reanalysis_avg_temp_k',\n",
       " 'reanalysis_dew_point_temp_k',\n",
       " 'reanalysis_max_air_temp_k',\n",
       " 'reanalysis_min_air_temp_k',\n",
       " 'reanalysis_precip_amt_kg_per_m2',\n",
       " 'reanalysis_relative_humidity_percent',\n",
       " 'reanalysis_sat_precip_amt_mm',\n",
       " 'reanalysis_specific_humidity_g_per_kg',\n",
       " 'reanalysis_tdtr_k',\n",
       " 'station_avg_temp_c',\n",
       " 'station_diur_temp_rng_c',\n",
       " 'station_max_temp_c',\n",
       " 'station_min_temp_c',\n",
       " 'station_precip_mm']"
      ]
     },
     "execution_count": 11,
     "metadata": {},
     "output_type": "execute_result"
    }
   ],
   "source": [
    "# Getting the list of columns having missing values\n",
    "x = dengue_features.columns[dengue_features.isna().sum() > 0].tolist()\n",
    "x"
   ]
  },
  {
   "cell_type": "code",
   "execution_count": 12,
   "id": "64800425",
   "metadata": {
    "execution": {
     "iopub.execute_input": "2024-06-07T05:26:07.455172Z",
     "iopub.status.busy": "2024-06-07T05:26:07.453961Z",
     "iopub.status.idle": "2024-06-07T05:26:07.469411Z",
     "shell.execute_reply": "2024-06-07T05:26:07.468368Z"
    },
    "papermill": {
     "duration": 0.036506,
     "end_time": "2024-06-07T05:26:07.472629",
     "exception": false,
     "start_time": "2024-06-07T05:26:07.436123",
     "status": "completed"
    },
    "tags": []
   },
   "outputs": [],
   "source": [
    "# Filling the missing value with mean\n",
    "for i in x:\n",
    "    dengue_features[i] = dengue_features[i].fillna(dengue_features[i].mean())"
   ]
  },
  {
   "cell_type": "code",
   "execution_count": 13,
   "id": "5002e09a",
   "metadata": {
    "execution": {
     "iopub.execute_input": "2024-06-07T05:26:07.506935Z",
     "iopub.status.busy": "2024-06-07T05:26:07.506535Z",
     "iopub.status.idle": "2024-06-07T05:26:07.514474Z",
     "shell.execute_reply": "2024-06-07T05:26:07.513262Z"
    },
    "papermill": {
     "duration": 0.028071,
     "end_time": "2024-06-07T05:26:07.517068",
     "exception": false,
     "start_time": "2024-06-07T05:26:07.488997",
     "status": "completed"
    },
    "tags": []
   },
   "outputs": [
    {
     "data": {
      "text/plain": [
       "['reanalysis_air_temp_k',\n",
       " 'reanalysis_avg_temp_k',\n",
       " 'reanalysis_dew_point_temp_k',\n",
       " 'reanalysis_max_air_temp_k',\n",
       " 'reanalysis_min_air_temp_k']"
      ]
     },
     "execution_count": 13,
     "metadata": {},
     "output_type": "execute_result"
    }
   ],
   "source": [
    "temperature_kelvin_columns = [i for i in dengue_features.columns if i.find('_temp_k') > -1]\n",
    "temperature_kelvin_columns"
   ]
  },
  {
   "cell_type": "code",
   "execution_count": 14,
   "id": "c4142022",
   "metadata": {
    "execution": {
     "iopub.execute_input": "2024-06-07T05:26:07.551113Z",
     "iopub.status.busy": "2024-06-07T05:26:07.550602Z",
     "iopub.status.idle": "2024-06-07T05:26:07.559068Z",
     "shell.execute_reply": "2024-06-07T05:26:07.557646Z"
    },
    "papermill": {
     "duration": 0.028748,
     "end_time": "2024-06-07T05:26:07.561712",
     "exception": false,
     "start_time": "2024-06-07T05:26:07.532964",
     "status": "completed"
    },
    "tags": []
   },
   "outputs": [],
   "source": [
    "for i in temperature_kelvin_columns:\n",
    "    dengue_features[i] = dengue_features[i] - 273.15"
   ]
  },
  {
   "cell_type": "code",
   "execution_count": 15,
   "id": "de1db4e6",
   "metadata": {
    "execution": {
     "iopub.execute_input": "2024-06-07T05:26:07.595332Z",
     "iopub.status.busy": "2024-06-07T05:26:07.594883Z",
     "iopub.status.idle": "2024-06-07T05:26:07.601837Z",
     "shell.execute_reply": "2024-06-07T05:26:07.600621Z"
    },
    "papermill": {
     "duration": 0.026769,
     "end_time": "2024-06-07T05:26:07.604444",
     "exception": false,
     "start_time": "2024-06-07T05:26:07.577675",
     "status": "completed"
    },
    "tags": []
   },
   "outputs": [],
   "source": [
    "# Changing the column names from _temp_k to _temp_c\n",
    "dengue_features.columns = [i.replace('_temp_k', '_temp_c') \n",
    "                           for i in dengue_features.columns if i.find('_temp_k')]"
   ]
  },
  {
   "cell_type": "code",
   "execution_count": 16,
   "id": "c6eea6c5",
   "metadata": {
    "execution": {
     "iopub.execute_input": "2024-06-07T05:26:07.638213Z",
     "iopub.status.busy": "2024-06-07T05:26:07.637726Z",
     "iopub.status.idle": "2024-06-07T05:26:07.673590Z",
     "shell.execute_reply": "2024-06-07T05:26:07.672325Z"
    },
    "papermill": {
     "duration": 0.056321,
     "end_time": "2024-06-07T05:26:07.676611",
     "exception": false,
     "start_time": "2024-06-07T05:26:07.620290",
     "status": "completed"
    },
    "tags": []
   },
   "outputs": [
    {
     "data": {
      "text/html": [
       "<div>\n",
       "<style scoped>\n",
       "    .dataframe tbody tr th:only-of-type {\n",
       "        vertical-align: middle;\n",
       "    }\n",
       "\n",
       "    .dataframe tbody tr th {\n",
       "        vertical-align: top;\n",
       "    }\n",
       "\n",
       "    .dataframe thead th {\n",
       "        text-align: right;\n",
       "    }\n",
       "</style>\n",
       "<table border=\"1\" class=\"dataframe\">\n",
       "  <thead>\n",
       "    <tr style=\"text-align: right;\">\n",
       "      <th></th>\n",
       "      <th>city</th>\n",
       "      <th>year</th>\n",
       "      <th>weekofyear</th>\n",
       "      <th>week_start_date</th>\n",
       "      <th>ndvi_ne</th>\n",
       "      <th>ndvi_nw</th>\n",
       "      <th>ndvi_se</th>\n",
       "      <th>ndvi_sw</th>\n",
       "      <th>precipitation_amt_mm</th>\n",
       "      <th>reanalysis_air_temp_c</th>\n",
       "      <th>...</th>\n",
       "      <th>reanalysis_precip_amt_kg_per_m2</th>\n",
       "      <th>reanalysis_relative_humidity_percent</th>\n",
       "      <th>reanalysis_sat_precip_amt_mm</th>\n",
       "      <th>reanalysis_specific_humidity_g_per_kg</th>\n",
       "      <th>reanalysis_tdtr_k</th>\n",
       "      <th>station_avg_temp_c</th>\n",
       "      <th>station_diur_temp_rng_c</th>\n",
       "      <th>station_max_temp_c</th>\n",
       "      <th>station_min_temp_c</th>\n",
       "      <th>station_precip_mm</th>\n",
       "    </tr>\n",
       "  </thead>\n",
       "  <tbody>\n",
       "    <tr>\n",
       "      <th>0</th>\n",
       "      <td>sj</td>\n",
       "      <td>1990</td>\n",
       "      <td>18</td>\n",
       "      <td>1990-04-30</td>\n",
       "      <td>0.123</td>\n",
       "      <td>0.104</td>\n",
       "      <td>0.198</td>\n",
       "      <td>0.178</td>\n",
       "      <td>12.42</td>\n",
       "      <td>24.423</td>\n",
       "      <td>...</td>\n",
       "      <td>32.00</td>\n",
       "      <td>73.366</td>\n",
       "      <td>12.42</td>\n",
       "      <td>14.013</td>\n",
       "      <td>2.629</td>\n",
       "      <td>25.443</td>\n",
       "      <td>6.900</td>\n",
       "      <td>29.4</td>\n",
       "      <td>20.0</td>\n",
       "      <td>16.0</td>\n",
       "    </tr>\n",
       "    <tr>\n",
       "      <th>1</th>\n",
       "      <td>sj</td>\n",
       "      <td>1990</td>\n",
       "      <td>19</td>\n",
       "      <td>1990-05-07</td>\n",
       "      <td>0.170</td>\n",
       "      <td>0.142</td>\n",
       "      <td>0.162</td>\n",
       "      <td>0.155</td>\n",
       "      <td>22.82</td>\n",
       "      <td>25.061</td>\n",
       "      <td>...</td>\n",
       "      <td>17.94</td>\n",
       "      <td>77.369</td>\n",
       "      <td>22.82</td>\n",
       "      <td>15.373</td>\n",
       "      <td>2.371</td>\n",
       "      <td>26.714</td>\n",
       "      <td>6.371</td>\n",
       "      <td>31.7</td>\n",
       "      <td>22.2</td>\n",
       "      <td>8.6</td>\n",
       "    </tr>\n",
       "    <tr>\n",
       "      <th>2</th>\n",
       "      <td>sj</td>\n",
       "      <td>1990</td>\n",
       "      <td>20</td>\n",
       "      <td>1990-05-14</td>\n",
       "      <td>0.032</td>\n",
       "      <td>0.173</td>\n",
       "      <td>0.157</td>\n",
       "      <td>0.171</td>\n",
       "      <td>34.54</td>\n",
       "      <td>25.631</td>\n",
       "      <td>...</td>\n",
       "      <td>26.10</td>\n",
       "      <td>82.053</td>\n",
       "      <td>34.54</td>\n",
       "      <td>16.849</td>\n",
       "      <td>2.300</td>\n",
       "      <td>26.714</td>\n",
       "      <td>6.486</td>\n",
       "      <td>32.2</td>\n",
       "      <td>22.8</td>\n",
       "      <td>41.4</td>\n",
       "    </tr>\n",
       "    <tr>\n",
       "      <th>3</th>\n",
       "      <td>sj</td>\n",
       "      <td>1990</td>\n",
       "      <td>21</td>\n",
       "      <td>1990-05-21</td>\n",
       "      <td>0.129</td>\n",
       "      <td>0.245</td>\n",
       "      <td>0.228</td>\n",
       "      <td>0.236</td>\n",
       "      <td>15.36</td>\n",
       "      <td>25.837</td>\n",
       "      <td>...</td>\n",
       "      <td>13.90</td>\n",
       "      <td>80.337</td>\n",
       "      <td>15.36</td>\n",
       "      <td>16.673</td>\n",
       "      <td>2.429</td>\n",
       "      <td>27.471</td>\n",
       "      <td>6.771</td>\n",
       "      <td>33.3</td>\n",
       "      <td>23.3</td>\n",
       "      <td>4.0</td>\n",
       "    </tr>\n",
       "    <tr>\n",
       "      <th>4</th>\n",
       "      <td>sj</td>\n",
       "      <td>1990</td>\n",
       "      <td>22</td>\n",
       "      <td>1990-05-28</td>\n",
       "      <td>0.196</td>\n",
       "      <td>0.262</td>\n",
       "      <td>0.251</td>\n",
       "      <td>0.247</td>\n",
       "      <td>7.52</td>\n",
       "      <td>26.369</td>\n",
       "      <td>...</td>\n",
       "      <td>12.20</td>\n",
       "      <td>80.460</td>\n",
       "      <td>7.52</td>\n",
       "      <td>17.210</td>\n",
       "      <td>3.014</td>\n",
       "      <td>28.943</td>\n",
       "      <td>9.371</td>\n",
       "      <td>35.0</td>\n",
       "      <td>23.9</td>\n",
       "      <td>5.8</td>\n",
       "    </tr>\n",
       "  </tbody>\n",
       "</table>\n",
       "<p>5 rows × 24 columns</p>\n",
       "</div>"
      ],
      "text/plain": [
       "  city  year  weekofyear week_start_date  ndvi_ne  ndvi_nw  ndvi_se  ndvi_sw  \\\n",
       "0   sj  1990          18      1990-04-30    0.123    0.104    0.198    0.178   \n",
       "1   sj  1990          19      1990-05-07    0.170    0.142    0.162    0.155   \n",
       "2   sj  1990          20      1990-05-14    0.032    0.173    0.157    0.171   \n",
       "3   sj  1990          21      1990-05-21    0.129    0.245    0.228    0.236   \n",
       "4   sj  1990          22      1990-05-28    0.196    0.262    0.251    0.247   \n",
       "\n",
       "   precipitation_amt_mm  reanalysis_air_temp_c  ...  \\\n",
       "0                 12.42                 24.423  ...   \n",
       "1                 22.82                 25.061  ...   \n",
       "2                 34.54                 25.631  ...   \n",
       "3                 15.36                 25.837  ...   \n",
       "4                  7.52                 26.369  ...   \n",
       "\n",
       "   reanalysis_precip_amt_kg_per_m2  reanalysis_relative_humidity_percent  \\\n",
       "0                            32.00                                73.366   \n",
       "1                            17.94                                77.369   \n",
       "2                            26.10                                82.053   \n",
       "3                            13.90                                80.337   \n",
       "4                            12.20                                80.460   \n",
       "\n",
       "   reanalysis_sat_precip_amt_mm  reanalysis_specific_humidity_g_per_kg  \\\n",
       "0                         12.42                                 14.013   \n",
       "1                         22.82                                 15.373   \n",
       "2                         34.54                                 16.849   \n",
       "3                         15.36                                 16.673   \n",
       "4                          7.52                                 17.210   \n",
       "\n",
       "   reanalysis_tdtr_k  station_avg_temp_c  station_diur_temp_rng_c  \\\n",
       "0              2.629              25.443                    6.900   \n",
       "1              2.371              26.714                    6.371   \n",
       "2              2.300              26.714                    6.486   \n",
       "3              2.429              27.471                    6.771   \n",
       "4              3.014              28.943                    9.371   \n",
       "\n",
       "   station_max_temp_c  station_min_temp_c  station_precip_mm  \n",
       "0                29.4                20.0               16.0  \n",
       "1                31.7                22.2                8.6  \n",
       "2                32.2                22.8               41.4  \n",
       "3                33.3                23.3                4.0  \n",
       "4                35.0                23.9                5.8  \n",
       "\n",
       "[5 rows x 24 columns]"
      ]
     },
     "execution_count": 16,
     "metadata": {},
     "output_type": "execute_result"
    }
   ],
   "source": [
    "dengue_features = dengue_features.round(3)\n",
    "\n",
    "dengue_features.head()"
   ]
  },
  {
   "cell_type": "code",
   "execution_count": 17,
   "id": "85f26f02",
   "metadata": {
    "execution": {
     "iopub.execute_input": "2024-06-07T05:26:07.713178Z",
     "iopub.status.busy": "2024-06-07T05:26:07.712032Z",
     "iopub.status.idle": "2024-06-07T05:26:07.724287Z",
     "shell.execute_reply": "2024-06-07T05:26:07.723153Z"
    },
    "papermill": {
     "duration": 0.033474,
     "end_time": "2024-06-07T05:26:07.727087",
     "exception": false,
     "start_time": "2024-06-07T05:26:07.693613",
     "status": "completed"
    },
    "tags": []
   },
   "outputs": [
    {
     "data": {
      "text/plain": [
       "0    24.70\n",
       "1    26.95\n",
       "2    27.50\n",
       "3    28.30\n",
       "4    29.45\n",
       "Name: avg_station_max_min, dtype: float64"
      ]
     },
     "execution_count": 17,
     "metadata": {},
     "output_type": "execute_result"
    }
   ],
   "source": [
    "dengue_features['avg_station_max_min'] = (dengue_features['station_max_temp_c'] + \n",
    "                                          dengue_features['station_min_temp_c']) / 2\n",
    "\n",
    "dengue_features['avg_station_max_min'].head()"
   ]
  },
  {
   "cell_type": "code",
   "execution_count": 18,
   "id": "e328a1a5",
   "metadata": {
    "execution": {
     "iopub.execute_input": "2024-06-07T05:26:07.763709Z",
     "iopub.status.busy": "2024-06-07T05:26:07.763252Z",
     "iopub.status.idle": "2024-06-07T05:26:07.774740Z",
     "shell.execute_reply": "2024-06-07T05:26:07.773513Z"
    },
    "papermill": {
     "duration": 0.032749,
     "end_time": "2024-06-07T05:26:07.777116",
     "exception": false,
     "start_time": "2024-06-07T05:26:07.744367",
     "status": "completed"
    },
    "tags": []
   },
   "outputs": [
    {
     "data": {
      "text/plain": [
       "0    24.70\n",
       "1    25.50\n",
       "2    25.75\n",
       "3    26.05\n",
       "4    26.55\n",
       "Name: avg_analysis_max_min, dtype: float64"
      ]
     },
     "execution_count": 18,
     "metadata": {},
     "output_type": "execute_result"
    }
   ],
   "source": [
    "dengue_features['avg_analysis_max_min'] = (dengue_features['reanalysis_max_air_temp_c'] + \n",
    "                                           dengue_features['reanalysis_min_air_temp_c']) / 2\n",
    "\n",
    "dengue_features['avg_analysis_max_min'].head()"
   ]
  },
  {
   "cell_type": "code",
   "execution_count": 19,
   "id": "6df46f67",
   "metadata": {
    "execution": {
     "iopub.execute_input": "2024-06-07T05:26:07.814436Z",
     "iopub.status.busy": "2024-06-07T05:26:07.813948Z",
     "iopub.status.idle": "2024-06-07T05:26:07.821071Z",
     "shell.execute_reply": "2024-06-07T05:26:07.819413Z"
    },
    "papermill": {
     "duration": 0.029603,
     "end_time": "2024-06-07T05:26:07.824342",
     "exception": false,
     "start_time": "2024-06-07T05:26:07.794739",
     "status": "completed"
    },
    "tags": []
   },
   "outputs": [],
   "source": [
    "# Adding total cases\n",
    "dengue_features['total_cases'] = dengue_labels['total_cases']"
   ]
  },
  {
   "cell_type": "code",
   "execution_count": 20,
   "id": "08817508",
   "metadata": {
    "execution": {
     "iopub.execute_input": "2024-06-07T05:26:07.862295Z",
     "iopub.status.busy": "2024-06-07T05:26:07.861804Z",
     "iopub.status.idle": "2024-06-07T05:26:07.946929Z",
     "shell.execute_reply": "2024-06-07T05:26:07.945787Z"
    },
    "papermill": {
     "duration": 0.10841,
     "end_time": "2024-06-07T05:26:07.950402",
     "exception": false,
     "start_time": "2024-06-07T05:26:07.841992",
     "status": "completed"
    },
    "tags": []
   },
   "outputs": [
    {
     "data": {
      "text/html": [
       "<div>\n",
       "<style scoped>\n",
       "    .dataframe tbody tr th:only-of-type {\n",
       "        vertical-align: middle;\n",
       "    }\n",
       "\n",
       "    .dataframe tbody tr th {\n",
       "        vertical-align: top;\n",
       "    }\n",
       "\n",
       "    .dataframe thead th {\n",
       "        text-align: right;\n",
       "    }\n",
       "</style>\n",
       "<table border=\"1\" class=\"dataframe\">\n",
       "  <thead>\n",
       "    <tr style=\"text-align: right;\">\n",
       "      <th></th>\n",
       "      <th>year</th>\n",
       "      <th>weekofyear</th>\n",
       "      <th>ndvi_ne</th>\n",
       "      <th>ndvi_nw</th>\n",
       "      <th>ndvi_se</th>\n",
       "      <th>ndvi_sw</th>\n",
       "      <th>precipitation_amt_mm</th>\n",
       "      <th>reanalysis_air_temp_c</th>\n",
       "      <th>reanalysis_avg_temp_c</th>\n",
       "      <th>reanalysis_dew_point_temp_c</th>\n",
       "      <th>...</th>\n",
       "      <th>reanalysis_specific_humidity_g_per_kg</th>\n",
       "      <th>reanalysis_tdtr_k</th>\n",
       "      <th>station_avg_temp_c</th>\n",
       "      <th>station_diur_temp_rng_c</th>\n",
       "      <th>station_max_temp_c</th>\n",
       "      <th>station_min_temp_c</th>\n",
       "      <th>station_precip_mm</th>\n",
       "      <th>avg_station_max_min</th>\n",
       "      <th>avg_analysis_max_min</th>\n",
       "      <th>total_cases</th>\n",
       "    </tr>\n",
       "  </thead>\n",
       "  <tbody>\n",
       "    <tr>\n",
       "      <th>count</th>\n",
       "      <td>1456.000000</td>\n",
       "      <td>1456.000000</td>\n",
       "      <td>1456.000000</td>\n",
       "      <td>1456.000000</td>\n",
       "      <td>1456.000000</td>\n",
       "      <td>1456.000000</td>\n",
       "      <td>1456.000000</td>\n",
       "      <td>1456.000000</td>\n",
       "      <td>1456.000000</td>\n",
       "      <td>1456.000000</td>\n",
       "      <td>...</td>\n",
       "      <td>1456.000000</td>\n",
       "      <td>1456.000000</td>\n",
       "      <td>1456.000000</td>\n",
       "      <td>1456.000000</td>\n",
       "      <td>1456.000000</td>\n",
       "      <td>1456.000000</td>\n",
       "      <td>1456.000000</td>\n",
       "      <td>1456.000000</td>\n",
       "      <td>1456.000000</td>\n",
       "      <td>1456.000000</td>\n",
       "    </tr>\n",
       "    <tr>\n",
       "      <th>mean</th>\n",
       "      <td>2001.031593</td>\n",
       "      <td>26.503434</td>\n",
       "      <td>0.142249</td>\n",
       "      <td>0.130568</td>\n",
       "      <td>0.203781</td>\n",
       "      <td>0.202295</td>\n",
       "      <td>45.760385</td>\n",
       "      <td>25.551865</td>\n",
       "      <td>26.075588</td>\n",
       "      <td>22.096353</td>\n",
       "      <td>...</td>\n",
       "      <td>16.746426</td>\n",
       "      <td>4.903755</td>\n",
       "      <td>27.185795</td>\n",
       "      <td>8.059324</td>\n",
       "      <td>32.452431</td>\n",
       "      <td>22.102148</td>\n",
       "      <td>39.326354</td>\n",
       "      <td>27.277290</td>\n",
       "      <td>26.423132</td>\n",
       "      <td>24.675137</td>\n",
       "    </tr>\n",
       "    <tr>\n",
       "      <th>std</th>\n",
       "      <td>5.408314</td>\n",
       "      <td>15.019437</td>\n",
       "      <td>0.130830</td>\n",
       "      <td>0.117844</td>\n",
       "      <td>0.073299</td>\n",
       "      <td>0.083268</td>\n",
       "      <td>43.519806</td>\n",
       "      <td>1.357720</td>\n",
       "      <td>1.257382</td>\n",
       "      <td>1.522545</td>\n",
       "      <td>...</td>\n",
       "      <td>1.537181</td>\n",
       "      <td>3.534244</td>\n",
       "      <td>1.273107</td>\n",
       "      <td>2.096867</td>\n",
       "      <td>1.945806</td>\n",
       "      <td>1.566475</td>\n",
       "      <td>47.095179</td>\n",
       "      <td>1.331498</td>\n",
       "      <td>1.325096</td>\n",
       "      <td>43.596000</td>\n",
       "    </tr>\n",
       "    <tr>\n",
       "      <th>min</th>\n",
       "      <td>1990.000000</td>\n",
       "      <td>1.000000</td>\n",
       "      <td>-0.406000</td>\n",
       "      <td>-0.456000</td>\n",
       "      <td>-0.016000</td>\n",
       "      <td>-0.063000</td>\n",
       "      <td>0.000000</td>\n",
       "      <td>21.486000</td>\n",
       "      <td>21.743000</td>\n",
       "      <td>16.493000</td>\n",
       "      <td>...</td>\n",
       "      <td>11.716000</td>\n",
       "      <td>1.357000</td>\n",
       "      <td>21.400000</td>\n",
       "      <td>4.529000</td>\n",
       "      <td>26.700000</td>\n",
       "      <td>14.700000</td>\n",
       "      <td>0.000000</td>\n",
       "      <td>22.800000</td>\n",
       "      <td>22.650000</td>\n",
       "      <td>0.000000</td>\n",
       "    </tr>\n",
       "    <tr>\n",
       "      <th>25%</th>\n",
       "      <td>1997.000000</td>\n",
       "      <td>13.750000</td>\n",
       "      <td>0.055750</td>\n",
       "      <td>0.051000</td>\n",
       "      <td>0.156000</td>\n",
       "      <td>0.145000</td>\n",
       "      <td>9.960000</td>\n",
       "      <td>24.515250</td>\n",
       "      <td>25.114000</td>\n",
       "      <td>20.980500</td>\n",
       "      <td>...</td>\n",
       "      <td>15.561000</td>\n",
       "      <td>2.329000</td>\n",
       "      <td>26.329000</td>\n",
       "      <td>6.529000</td>\n",
       "      <td>31.100000</td>\n",
       "      <td>21.100000</td>\n",
       "      <td>8.850000</td>\n",
       "      <td>26.400000</td>\n",
       "      <td>25.400000</td>\n",
       "      <td>5.000000</td>\n",
       "    </tr>\n",
       "    <tr>\n",
       "      <th>50%</th>\n",
       "      <td>2002.000000</td>\n",
       "      <td>26.500000</td>\n",
       "      <td>0.142000</td>\n",
       "      <td>0.128000</td>\n",
       "      <td>0.197000</td>\n",
       "      <td>0.191000</td>\n",
       "      <td>38.710000</td>\n",
       "      <td>25.512000</td>\n",
       "      <td>26.117500</td>\n",
       "      <td>22.476000</td>\n",
       "      <td>...</td>\n",
       "      <td>17.065000</td>\n",
       "      <td>2.864000</td>\n",
       "      <td>27.386000</td>\n",
       "      <td>7.386000</td>\n",
       "      <td>32.800000</td>\n",
       "      <td>22.200000</td>\n",
       "      <td>24.450000</td>\n",
       "      <td>27.500000</td>\n",
       "      <td>26.500000</td>\n",
       "      <td>12.000000</td>\n",
       "    </tr>\n",
       "    <tr>\n",
       "      <th>75%</th>\n",
       "      <td>2005.000000</td>\n",
       "      <td>39.250000</td>\n",
       "      <td>0.229250</td>\n",
       "      <td>0.212250</td>\n",
       "      <td>0.247000</td>\n",
       "      <td>0.246250</td>\n",
       "      <td>70.047500</td>\n",
       "      <td>26.677500</td>\n",
       "      <td>27.057000</td>\n",
       "      <td>23.306250</td>\n",
       "      <td>...</td>\n",
       "      <td>17.974500</td>\n",
       "      <td>7.553750</td>\n",
       "      <td>28.129000</td>\n",
       "      <td>9.500000</td>\n",
       "      <td>33.900000</td>\n",
       "      <td>23.300000</td>\n",
       "      <td>53.600000</td>\n",
       "      <td>28.300000</td>\n",
       "      <td>27.400000</td>\n",
       "      <td>28.000000</td>\n",
       "    </tr>\n",
       "    <tr>\n",
       "      <th>max</th>\n",
       "      <td>2010.000000</td>\n",
       "      <td>53.000000</td>\n",
       "      <td>0.508000</td>\n",
       "      <td>0.454000</td>\n",
       "      <td>0.538000</td>\n",
       "      <td>0.546000</td>\n",
       "      <td>390.600000</td>\n",
       "      <td>29.050000</td>\n",
       "      <td>29.779000</td>\n",
       "      <td>25.300000</td>\n",
       "      <td>...</td>\n",
       "      <td>20.461000</td>\n",
       "      <td>16.029000</td>\n",
       "      <td>30.800000</td>\n",
       "      <td>15.800000</td>\n",
       "      <td>42.200000</td>\n",
       "      <td>25.600000</td>\n",
       "      <td>543.300000</td>\n",
       "      <td>32.000000</td>\n",
       "      <td>31.250000</td>\n",
       "      <td>461.000000</td>\n",
       "    </tr>\n",
       "  </tbody>\n",
       "</table>\n",
       "<p>8 rows × 25 columns</p>\n",
       "</div>"
      ],
      "text/plain": [
       "              year   weekofyear      ndvi_ne      ndvi_nw      ndvi_se  \\\n",
       "count  1456.000000  1456.000000  1456.000000  1456.000000  1456.000000   \n",
       "mean   2001.031593    26.503434     0.142249     0.130568     0.203781   \n",
       "std       5.408314    15.019437     0.130830     0.117844     0.073299   \n",
       "min    1990.000000     1.000000    -0.406000    -0.456000    -0.016000   \n",
       "25%    1997.000000    13.750000     0.055750     0.051000     0.156000   \n",
       "50%    2002.000000    26.500000     0.142000     0.128000     0.197000   \n",
       "75%    2005.000000    39.250000     0.229250     0.212250     0.247000   \n",
       "max    2010.000000    53.000000     0.508000     0.454000     0.538000   \n",
       "\n",
       "           ndvi_sw  precipitation_amt_mm  reanalysis_air_temp_c  \\\n",
       "count  1456.000000           1456.000000            1456.000000   \n",
       "mean      0.202295             45.760385              25.551865   \n",
       "std       0.083268             43.519806               1.357720   \n",
       "min      -0.063000              0.000000              21.486000   \n",
       "25%       0.145000              9.960000              24.515250   \n",
       "50%       0.191000             38.710000              25.512000   \n",
       "75%       0.246250             70.047500              26.677500   \n",
       "max       0.546000            390.600000              29.050000   \n",
       "\n",
       "       reanalysis_avg_temp_c  reanalysis_dew_point_temp_c  ...  \\\n",
       "count            1456.000000                  1456.000000  ...   \n",
       "mean               26.075588                    22.096353  ...   \n",
       "std                 1.257382                     1.522545  ...   \n",
       "min                21.743000                    16.493000  ...   \n",
       "25%                25.114000                    20.980500  ...   \n",
       "50%                26.117500                    22.476000  ...   \n",
       "75%                27.057000                    23.306250  ...   \n",
       "max                29.779000                    25.300000  ...   \n",
       "\n",
       "       reanalysis_specific_humidity_g_per_kg  reanalysis_tdtr_k  \\\n",
       "count                            1456.000000        1456.000000   \n",
       "mean                               16.746426           4.903755   \n",
       "std                                 1.537181           3.534244   \n",
       "min                                11.716000           1.357000   \n",
       "25%                                15.561000           2.329000   \n",
       "50%                                17.065000           2.864000   \n",
       "75%                                17.974500           7.553750   \n",
       "max                                20.461000          16.029000   \n",
       "\n",
       "       station_avg_temp_c  station_diur_temp_rng_c  station_max_temp_c  \\\n",
       "count         1456.000000              1456.000000         1456.000000   \n",
       "mean            27.185795                 8.059324           32.452431   \n",
       "std              1.273107                 2.096867            1.945806   \n",
       "min             21.400000                 4.529000           26.700000   \n",
       "25%             26.329000                 6.529000           31.100000   \n",
       "50%             27.386000                 7.386000           32.800000   \n",
       "75%             28.129000                 9.500000           33.900000   \n",
       "max             30.800000                15.800000           42.200000   \n",
       "\n",
       "       station_min_temp_c  station_precip_mm  avg_station_max_min  \\\n",
       "count         1456.000000        1456.000000          1456.000000   \n",
       "mean            22.102148          39.326354            27.277290   \n",
       "std              1.566475          47.095179             1.331498   \n",
       "min             14.700000           0.000000            22.800000   \n",
       "25%             21.100000           8.850000            26.400000   \n",
       "50%             22.200000          24.450000            27.500000   \n",
       "75%             23.300000          53.600000            28.300000   \n",
       "max             25.600000         543.300000            32.000000   \n",
       "\n",
       "       avg_analysis_max_min  total_cases  \n",
       "count           1456.000000  1456.000000  \n",
       "mean              26.423132    24.675137  \n",
       "std                1.325096    43.596000  \n",
       "min               22.650000     0.000000  \n",
       "25%               25.400000     5.000000  \n",
       "50%               26.500000    12.000000  \n",
       "75%               27.400000    28.000000  \n",
       "max               31.250000   461.000000  \n",
       "\n",
       "[8 rows x 25 columns]"
      ]
     },
     "execution_count": 20,
     "metadata": {},
     "output_type": "execute_result"
    }
   ],
   "source": [
    "# Summary statistics\n",
    "dengue_features.describe()"
   ]
  },
  {
   "cell_type": "code",
   "execution_count": 21,
   "id": "c803032c",
   "metadata": {
    "execution": {
     "iopub.execute_input": "2024-06-07T05:26:07.989022Z",
     "iopub.status.busy": "2024-06-07T05:26:07.988533Z",
     "iopub.status.idle": "2024-06-07T05:26:07.994475Z",
     "shell.execute_reply": "2024-06-07T05:26:07.993200Z"
    },
    "papermill": {
     "duration": 0.028806,
     "end_time": "2024-06-07T05:26:07.997239",
     "exception": false,
     "start_time": "2024-06-07T05:26:07.968433",
     "status": "completed"
    },
    "tags": []
   },
   "outputs": [],
   "source": [
    "# Setting plot size\n",
    "plt.rcParams['figure.figsize'] = [12, 12]"
   ]
  },
  {
   "cell_type": "code",
   "execution_count": 22,
   "id": "2d47680e",
   "metadata": {
    "execution": {
     "iopub.execute_input": "2024-06-07T05:26:08.036413Z",
     "iopub.status.busy": "2024-06-07T05:26:08.035935Z",
     "iopub.status.idle": "2024-06-07T05:26:08.933924Z",
     "shell.execute_reply": "2024-06-07T05:26:08.932412Z"
    },
    "papermill": {
     "duration": 0.921603,
     "end_time": "2024-06-07T05:26:08.937383",
     "exception": false,
     "start_time": "2024-06-07T05:26:08.015780",
     "status": "completed"
    },
    "tags": []
   },
   "outputs": [
    {
     "data": {
      "image/png": "[encoded data removed]",
      "text/plain": [
       "<Figure size 1200x1200 with 4 Axes>"
      ]
     },
     "metadata": {},
     "output_type": "display_data"
    }
   ],
   "source": [
    "# ndvi_ne\n",
    "plt.subplot(2, 2, 1)\n",
    "plt.plot(dengue_features[x[0]], dengue_features['total_cases'], \n",
    "         marker='.', linestyle='none', color='red')\n",
    "plt.xlabel(x[0])\n",
    "plt.ylabel('total cases')\n",
    "plt.title('total cases vs ' + x[0])\n",
    "\n",
    "# ndvi_nw\n",
    "plt.subplot(2, 2, 2)\n",
    "plt.plot(dengue_features[x[1]], dengue_features['total_cases'], \n",
    "         marker='.', linestyle='none', color='green')\n",
    "plt.xlabel(x[1])\n",
    "plt.ylabel('total cases')\n",
    "plt.title('total cases vs ' + x[1])\n",
    "\n",
    "# ndvi_se\n",
    "plt.subplot(2, 2, 3)\n",
    "plt.plot(dengue_features[x[2]], dengue_features['total_cases'], \n",
    "         marker='.', linestyle='none', color='blue')\n",
    "plt.xlabel(x[2])\n",
    "plt.ylabel('total cases')\n",
    "plt.title('total cases vs ' + x[2])\n",
    "\n",
    "# ndvi_sw\n",
    "plt.subplot(2, 2, 4)\n",
    "plt.plot(dengue_features[x[3]], dengue_features['total_cases'], \n",
    "         marker='.', linestyle='none', color='#B16150')\n",
    "plt.xlabel(x[3])\n",
    "plt.ylabel('total cases')\n",
    "plt.title('total cases vs ' + x[3])\n",
    "plt.show()"
   ]
  },
  {
   "cell_type": "code",
   "execution_count": 23,
   "id": "3b9fb474",
   "metadata": {
    "execution": {
     "iopub.execute_input": "2024-06-07T05:26:08.978963Z",
     "iopub.status.busy": "2024-06-07T05:26:08.978498Z",
     "iopub.status.idle": "2024-06-07T05:26:09.338713Z",
     "shell.execute_reply": "2024-06-07T05:26:09.337194Z"
    },
    "papermill": {
     "duration": 0.385324,
     "end_time": "2024-06-07T05:26:09.342199",
     "exception": false,
     "start_time": "2024-06-07T05:26:08.956875",
     "status": "completed"
    },
    "tags": []
   },
   "outputs": [
    {
     "data": {
      "image/png": "[encoded data removed]",
      "text/plain": [
       "<Figure size 1200x1200 with 1 Axes>"
      ]
     },
     "metadata": {},
     "output_type": "display_data"
    }
   ],
   "source": [
    "plt.plot(dengue_features[x[4]], dengue_features['total_cases'], \n",
    "         marker='.', linestyle='none', color='green')\n",
    "plt.xlabel(x[4])\n",
    "plt.ylabel('total cases')\n",
    "plt.legend()\n",
    "plt.show()"
   ]
  },
  {
   "cell_type": "code",
   "execution_count": 24,
   "id": "ee860ea2",
   "metadata": {
    "execution": {
     "iopub.execute_input": "2024-06-07T05:26:09.387060Z",
     "iopub.status.busy": "2024-06-07T05:26:09.386545Z",
     "iopub.status.idle": "2024-06-07T05:26:09.399793Z",
     "shell.execute_reply": "2024-06-07T05:26:09.398482Z"
    },
    "papermill": {
     "duration": 0.038291,
     "end_time": "2024-06-07T05:26:09.402448",
     "exception": false,
     "start_time": "2024-06-07T05:26:09.364157",
     "status": "completed"
    },
    "tags": []
   },
   "outputs": [],
   "source": [
    "X_sj = dengue_features[dengue_features['city'] == 'sj']\n",
    "X_iq = dengue_features[dengue_features['city'] == 'iq']"
   ]
  },
  {
   "cell_type": "code",
   "execution_count": 25,
   "id": "a821f24c",
   "metadata": {
    "execution": {
     "iopub.execute_input": "2024-06-07T05:26:09.443995Z",
     "iopub.status.busy": "2024-06-07T05:26:09.443582Z",
     "iopub.status.idle": "2024-06-07T05:26:09.454376Z",
     "shell.execute_reply": "2024-06-07T05:26:09.453151Z"
    },
    "papermill": {
     "duration": 0.034832,
     "end_time": "2024-06-07T05:26:09.457348",
     "exception": false,
     "start_time": "2024-06-07T05:26:09.422516",
     "status": "completed"
    },
    "tags": []
   },
   "outputs": [],
   "source": [
    "X_sj = X_sj.drop(['city', 'weekofyear', 'week_start_date'], axis=1)\n",
    "X_iq = X_iq.drop(['city', 'weekofyear', 'week_start_date'], axis=1)"
   ]
  },
  {
   "cell_type": "code",
   "execution_count": 26,
   "id": "5cec3ab1",
   "metadata": {
    "execution": {
     "iopub.execute_input": "2024-06-07T05:26:09.500448Z",
     "iopub.status.busy": "2024-06-07T05:26:09.500045Z",
     "iopub.status.idle": "2024-06-07T05:26:09.514070Z",
     "shell.execute_reply": "2024-06-07T05:26:09.512848Z"
    },
    "papermill": {
     "duration": 0.039148,
     "end_time": "2024-06-07T05:26:09.517191",
     "exception": false,
     "start_time": "2024-06-07T05:26:09.478043",
     "status": "completed"
    },
    "tags": []
   },
   "outputs": [],
   "source": [
    "one_hot_sj = pd.get_dummies(X_sj['year'])\n",
    "X_sj = X_sj.drop('year', axis=1)\n",
    "X_sj = X_sj.join(one_hot_sj)"
   ]
  },
  {
   "cell_type": "code",
   "execution_count": 27,
   "id": "c2a576a1",
   "metadata": {
    "execution": {
     "iopub.execute_input": "2024-06-07T05:26:09.560223Z",
     "iopub.status.busy": "2024-06-07T05:26:09.559742Z",
     "iopub.status.idle": "2024-06-07T05:26:09.573518Z",
     "shell.execute_reply": "2024-06-07T05:26:09.572201Z"
    },
    "papermill": {
     "duration": 0.0387,
     "end_time": "2024-06-07T05:26:09.576349",
     "exception": false,
     "start_time": "2024-06-07T05:26:09.537649",
     "status": "completed"
    },
    "tags": []
   },
   "outputs": [],
   "source": [
    "one_hot_iq = pd.get_dummies(X_iq['year'])\n",
    "X_iq = X_iq.drop('year', axis=1)\n",
    "X_iq = X_iq.join(one_hot_iq)"
   ]
  },
  {
   "cell_type": "code",
   "execution_count": 28,
   "id": "0ad1a7ea",
   "metadata": {
    "execution": {
     "iopub.execute_input": "2024-06-07T05:26:09.618128Z",
     "iopub.status.busy": "2024-06-07T05:26:09.617625Z",
     "iopub.status.idle": "2024-06-07T05:26:09.653349Z",
     "shell.execute_reply": "2024-06-07T05:26:09.652145Z"
    },
    "papermill": {
     "duration": 0.05976,
     "end_time": "2024-06-07T05:26:09.656021",
     "exception": false,
     "start_time": "2024-06-07T05:26:09.596261",
     "status": "completed"
    },
    "tags": []
   },
   "outputs": [
    {
     "data": {
      "text/html": [
       "<div>\n",
       "<style scoped>\n",
       "    .dataframe tbody tr th:only-of-type {\n",
       "        vertical-align: middle;\n",
       "    }\n",
       "\n",
       "    .dataframe tbody tr th {\n",
       "        vertical-align: top;\n",
       "    }\n",
       "\n",
       "    .dataframe thead th {\n",
       "        text-align: right;\n",
       "    }\n",
       "</style>\n",
       "<table border=\"1\" class=\"dataframe\">\n",
       "  <thead>\n",
       "    <tr style=\"text-align: right;\">\n",
       "      <th></th>\n",
       "      <th>1991</th>\n",
       "      <th>1992</th>\n",
       "      <th>1993</th>\n",
       "      <th>1994</th>\n",
       "      <th>1995</th>\n",
       "      <th>1996</th>\n",
       "      <th>1997</th>\n",
       "      <th>1998</th>\n",
       "      <th>1999</th>\n",
       "      <th>2000</th>\n",
       "      <th>...</th>\n",
       "      <th>reanalysis_tdtr_k</th>\n",
       "      <th>station_avg_temp_c</th>\n",
       "      <th>station_diur_temp_rng_c</th>\n",
       "      <th>station_max_temp_c</th>\n",
       "      <th>station_min_temp_c</th>\n",
       "      <th>station_precip_mm</th>\n",
       "      <th>avg_station_max_min</th>\n",
       "      <th>avg_analysis_max_min</th>\n",
       "      <th>total_cases</th>\n",
       "      <th>1990</th>\n",
       "    </tr>\n",
       "  </thead>\n",
       "  <tbody>\n",
       "    <tr>\n",
       "      <th>0</th>\n",
       "      <td>False</td>\n",
       "      <td>False</td>\n",
       "      <td>False</td>\n",
       "      <td>False</td>\n",
       "      <td>False</td>\n",
       "      <td>False</td>\n",
       "      <td>False</td>\n",
       "      <td>False</td>\n",
       "      <td>False</td>\n",
       "      <td>False</td>\n",
       "      <td>...</td>\n",
       "      <td>2.629</td>\n",
       "      <td>25.443</td>\n",
       "      <td>6.900</td>\n",
       "      <td>29.4</td>\n",
       "      <td>20.0</td>\n",
       "      <td>16.0</td>\n",
       "      <td>24.70</td>\n",
       "      <td>24.70</td>\n",
       "      <td>4</td>\n",
       "      <td>True</td>\n",
       "    </tr>\n",
       "    <tr>\n",
       "      <th>1</th>\n",
       "      <td>False</td>\n",
       "      <td>False</td>\n",
       "      <td>False</td>\n",
       "      <td>False</td>\n",
       "      <td>False</td>\n",
       "      <td>False</td>\n",
       "      <td>False</td>\n",
       "      <td>False</td>\n",
       "      <td>False</td>\n",
       "      <td>False</td>\n",
       "      <td>...</td>\n",
       "      <td>2.371</td>\n",
       "      <td>26.714</td>\n",
       "      <td>6.371</td>\n",
       "      <td>31.7</td>\n",
       "      <td>22.2</td>\n",
       "      <td>8.6</td>\n",
       "      <td>26.95</td>\n",
       "      <td>25.50</td>\n",
       "      <td>5</td>\n",
       "      <td>True</td>\n",
       "    </tr>\n",
       "    <tr>\n",
       "      <th>2</th>\n",
       "      <td>False</td>\n",
       "      <td>False</td>\n",
       "      <td>False</td>\n",
       "      <td>False</td>\n",
       "      <td>False</td>\n",
       "      <td>False</td>\n",
       "      <td>False</td>\n",
       "      <td>False</td>\n",
       "      <td>False</td>\n",
       "      <td>False</td>\n",
       "      <td>...</td>\n",
       "      <td>2.300</td>\n",
       "      <td>26.714</td>\n",
       "      <td>6.486</td>\n",
       "      <td>32.2</td>\n",
       "      <td>22.8</td>\n",
       "      <td>41.4</td>\n",
       "      <td>27.50</td>\n",
       "      <td>25.75</td>\n",
       "      <td>4</td>\n",
       "      <td>True</td>\n",
       "    </tr>\n",
       "    <tr>\n",
       "      <th>3</th>\n",
       "      <td>False</td>\n",
       "      <td>False</td>\n",
       "      <td>False</td>\n",
       "      <td>False</td>\n",
       "      <td>False</td>\n",
       "      <td>False</td>\n",
       "      <td>False</td>\n",
       "      <td>False</td>\n",
       "      <td>False</td>\n",
       "      <td>False</td>\n",
       "      <td>...</td>\n",
       "      <td>2.429</td>\n",
       "      <td>27.471</td>\n",
       "      <td>6.771</td>\n",
       "      <td>33.3</td>\n",
       "      <td>23.3</td>\n",
       "      <td>4.0</td>\n",
       "      <td>28.30</td>\n",
       "      <td>26.05</td>\n",
       "      <td>3</td>\n",
       "      <td>True</td>\n",
       "    </tr>\n",
       "    <tr>\n",
       "      <th>4</th>\n",
       "      <td>False</td>\n",
       "      <td>False</td>\n",
       "      <td>False</td>\n",
       "      <td>False</td>\n",
       "      <td>False</td>\n",
       "      <td>False</td>\n",
       "      <td>False</td>\n",
       "      <td>False</td>\n",
       "      <td>False</td>\n",
       "      <td>False</td>\n",
       "      <td>...</td>\n",
       "      <td>3.014</td>\n",
       "      <td>28.943</td>\n",
       "      <td>9.371</td>\n",
       "      <td>35.0</td>\n",
       "      <td>23.9</td>\n",
       "      <td>5.8</td>\n",
       "      <td>29.45</td>\n",
       "      <td>26.55</td>\n",
       "      <td>6</td>\n",
       "      <td>True</td>\n",
       "    </tr>\n",
       "  </tbody>\n",
       "</table>\n",
       "<p>5 rows × 42 columns</p>\n",
       "</div>"
      ],
      "text/plain": [
       "    1991   1992   1993   1994   1995   1996   1997   1998   1999   2000  ...  \\\n",
       "0  False  False  False  False  False  False  False  False  False  False  ...   \n",
       "1  False  False  False  False  False  False  False  False  False  False  ...   \n",
       "2  False  False  False  False  False  False  False  False  False  False  ...   \n",
       "3  False  False  False  False  False  False  False  False  False  False  ...   \n",
       "4  False  False  False  False  False  False  False  False  False  False  ...   \n",
       "\n",
       "   reanalysis_tdtr_k  station_avg_temp_c  station_diur_temp_rng_c  \\\n",
       "0              2.629              25.443                    6.900   \n",
       "1              2.371              26.714                    6.371   \n",
       "2              2.300              26.714                    6.486   \n",
       "3              2.429              27.471                    6.771   \n",
       "4              3.014              28.943                    9.371   \n",
       "\n",
       "   station_max_temp_c  station_min_temp_c  station_precip_mm  \\\n",
       "0                29.4                20.0               16.0   \n",
       "1                31.7                22.2                8.6   \n",
       "2                32.2                22.8               41.4   \n",
       "3                33.3                23.3                4.0   \n",
       "4                35.0                23.9                5.8   \n",
       "\n",
       "   avg_station_max_min  avg_analysis_max_min  total_cases  1990  \n",
       "0                24.70                 24.70            4  True  \n",
       "1                26.95                 25.50            5  True  \n",
       "2                27.50                 25.75            4  True  \n",
       "3                28.30                 26.05            3  True  \n",
       "4                29.45                 26.55            6  True  \n",
       "\n",
       "[5 rows x 42 columns]"
      ]
     },
     "execution_count": 28,
     "metadata": {},
     "output_type": "execute_result"
    }
   ],
   "source": [
    "years = X_sj.columns[:23:-1].values.tolist()\n",
    "X_sj = X_sj[years[::-1]].join(X_sj[X_sj.columns[:24]])\n",
    "X_sj.head()"
   ]
  },
  {
   "cell_type": "code",
   "execution_count": 29,
   "id": "7ed0e7d9",
   "metadata": {
    "execution": {
     "iopub.execute_input": "2024-06-07T05:26:09.768817Z",
     "iopub.status.busy": "2024-06-07T05:26:09.768348Z",
     "iopub.status.idle": "2024-06-07T05:26:09.803491Z",
     "shell.execute_reply": "2024-06-07T05:26:09.802290Z"
    },
    "papermill": {
     "duration": 0.061649,
     "end_time": "2024-06-07T05:26:09.806344",
     "exception": false,
     "start_time": "2024-06-07T05:26:09.744695",
     "status": "completed"
    },
    "tags": []
   },
   "outputs": [
    {
     "data": {
      "text/html": [
       "<div>\n",
       "<style scoped>\n",
       "    .dataframe tbody tr th:only-of-type {\n",
       "        vertical-align: middle;\n",
       "    }\n",
       "\n",
       "    .dataframe tbody tr th {\n",
       "        vertical-align: top;\n",
       "    }\n",
       "\n",
       "    .dataframe thead th {\n",
       "        text-align: right;\n",
       "    }\n",
       "</style>\n",
       "<table border=\"1\" class=\"dataframe\">\n",
       "  <thead>\n",
       "    <tr style=\"text-align: right;\">\n",
       "      <th></th>\n",
       "      <th>2001</th>\n",
       "      <th>2002</th>\n",
       "      <th>2003</th>\n",
       "      <th>2004</th>\n",
       "      <th>2005</th>\n",
       "      <th>2006</th>\n",
       "      <th>2007</th>\n",
       "      <th>2008</th>\n",
       "      <th>2009</th>\n",
       "      <th>2010</th>\n",
       "      <th>...</th>\n",
       "      <th>reanalysis_tdtr_k</th>\n",
       "      <th>station_avg_temp_c</th>\n",
       "      <th>station_diur_temp_rng_c</th>\n",
       "      <th>station_max_temp_c</th>\n",
       "      <th>station_min_temp_c</th>\n",
       "      <th>station_precip_mm</th>\n",
       "      <th>avg_station_max_min</th>\n",
       "      <th>avg_analysis_max_min</th>\n",
       "      <th>total_cases</th>\n",
       "      <th>2000</th>\n",
       "    </tr>\n",
       "  </thead>\n",
       "  <tbody>\n",
       "    <tr>\n",
       "      <th>936</th>\n",
       "      <td>False</td>\n",
       "      <td>False</td>\n",
       "      <td>False</td>\n",
       "      <td>False</td>\n",
       "      <td>False</td>\n",
       "      <td>False</td>\n",
       "      <td>False</td>\n",
       "      <td>False</td>\n",
       "      <td>False</td>\n",
       "      <td>False</td>\n",
       "      <td>...</td>\n",
       "      <td>8.929</td>\n",
       "      <td>26.400</td>\n",
       "      <td>10.775</td>\n",
       "      <td>32.5</td>\n",
       "      <td>20.7</td>\n",
       "      <td>3.0</td>\n",
       "      <td>26.60</td>\n",
       "      <td>27.05</td>\n",
       "      <td>0</td>\n",
       "      <td>True</td>\n",
       "    </tr>\n",
       "    <tr>\n",
       "      <th>937</th>\n",
       "      <td>False</td>\n",
       "      <td>False</td>\n",
       "      <td>False</td>\n",
       "      <td>False</td>\n",
       "      <td>False</td>\n",
       "      <td>False</td>\n",
       "      <td>False</td>\n",
       "      <td>False</td>\n",
       "      <td>False</td>\n",
       "      <td>False</td>\n",
       "      <td>...</td>\n",
       "      <td>10.314</td>\n",
       "      <td>26.900</td>\n",
       "      <td>11.567</td>\n",
       "      <td>34.0</td>\n",
       "      <td>20.8</td>\n",
       "      <td>55.6</td>\n",
       "      <td>27.40</td>\n",
       "      <td>25.70</td>\n",
       "      <td>0</td>\n",
       "      <td>True</td>\n",
       "    </tr>\n",
       "    <tr>\n",
       "      <th>938</th>\n",
       "      <td>False</td>\n",
       "      <td>False</td>\n",
       "      <td>False</td>\n",
       "      <td>False</td>\n",
       "      <td>False</td>\n",
       "      <td>False</td>\n",
       "      <td>False</td>\n",
       "      <td>False</td>\n",
       "      <td>False</td>\n",
       "      <td>False</td>\n",
       "      <td>...</td>\n",
       "      <td>7.386</td>\n",
       "      <td>26.800</td>\n",
       "      <td>11.467</td>\n",
       "      <td>33.0</td>\n",
       "      <td>20.7</td>\n",
       "      <td>38.1</td>\n",
       "      <td>26.85</td>\n",
       "      <td>25.40</td>\n",
       "      <td>0</td>\n",
       "      <td>True</td>\n",
       "    </tr>\n",
       "    <tr>\n",
       "      <th>939</th>\n",
       "      <td>False</td>\n",
       "      <td>False</td>\n",
       "      <td>False</td>\n",
       "      <td>False</td>\n",
       "      <td>False</td>\n",
       "      <td>False</td>\n",
       "      <td>False</td>\n",
       "      <td>False</td>\n",
       "      <td>False</td>\n",
       "      <td>False</td>\n",
       "      <td>...</td>\n",
       "      <td>9.114</td>\n",
       "      <td>25.767</td>\n",
       "      <td>10.533</td>\n",
       "      <td>31.5</td>\n",
       "      <td>14.7</td>\n",
       "      <td>30.0</td>\n",
       "      <td>23.10</td>\n",
       "      <td>22.95</td>\n",
       "      <td>0</td>\n",
       "      <td>True</td>\n",
       "    </tr>\n",
       "    <tr>\n",
       "      <th>940</th>\n",
       "      <td>False</td>\n",
       "      <td>False</td>\n",
       "      <td>False</td>\n",
       "      <td>False</td>\n",
       "      <td>False</td>\n",
       "      <td>False</td>\n",
       "      <td>False</td>\n",
       "      <td>False</td>\n",
       "      <td>False</td>\n",
       "      <td>False</td>\n",
       "      <td>...</td>\n",
       "      <td>9.500</td>\n",
       "      <td>26.600</td>\n",
       "      <td>11.480</td>\n",
       "      <td>33.3</td>\n",
       "      <td>19.1</td>\n",
       "      <td>4.0</td>\n",
       "      <td>26.20</td>\n",
       "      <td>26.10</td>\n",
       "      <td>0</td>\n",
       "      <td>True</td>\n",
       "    </tr>\n",
       "  </tbody>\n",
       "</table>\n",
       "<p>5 rows × 34 columns</p>\n",
       "</div>"
      ],
      "text/plain": [
       "      2001   2002   2003   2004   2005   2006   2007   2008   2009   2010  \\\n",
       "936  False  False  False  False  False  False  False  False  False  False   \n",
       "937  False  False  False  False  False  False  False  False  False  False   \n",
       "938  False  False  False  False  False  False  False  False  False  False   \n",
       "939  False  False  False  False  False  False  False  False  False  False   \n",
       "940  False  False  False  False  False  False  False  False  False  False   \n",
       "\n",
       "     ...  reanalysis_tdtr_k  station_avg_temp_c  station_diur_temp_rng_c  \\\n",
       "936  ...              8.929              26.400                   10.775   \n",
       "937  ...             10.314              26.900                   11.567   \n",
       "938  ...              7.386              26.800                   11.467   \n",
       "939  ...              9.114              25.767                   10.533   \n",
       "940  ...              9.500              26.600                   11.480   \n",
       "\n",
       "     station_max_temp_c  station_min_temp_c  station_precip_mm  \\\n",
       "936                32.5                20.7                3.0   \n",
       "937                34.0                20.8               55.6   \n",
       "938                33.0                20.7               38.1   \n",
       "939                31.5                14.7               30.0   \n",
       "940                33.3                19.1                4.0   \n",
       "\n",
       "     avg_station_max_min  avg_analysis_max_min  total_cases  2000  \n",
       "936                26.60                 27.05            0  True  \n",
       "937                27.40                 25.70            0  True  \n",
       "938                26.85                 25.40            0  True  \n",
       "939                23.10                 22.95            0  True  \n",
       "940                26.20                 26.10            0  True  \n",
       "\n",
       "[5 rows x 34 columns]"
      ]
     },
     "execution_count": 29,
     "metadata": {},
     "output_type": "execute_result"
    }
   ],
   "source": [
    "years = X_iq.columns[:23:-1].values.tolist()\n",
    "X_iq = X_iq[years[::-1]].join(X_iq[X_iq.columns[:24]])\n",
    "X_iq.head()"
   ]
  },
  {
   "cell_type": "code",
   "execution_count": 30,
   "id": "e6faa8cb",
   "metadata": {
    "execution": {
     "iopub.execute_input": "2024-06-07T05:26:09.853408Z",
     "iopub.status.busy": "2024-06-07T05:26:09.852931Z",
     "iopub.status.idle": "2024-06-07T05:26:09.861530Z",
     "shell.execute_reply": "2024-06-07T05:26:09.860160Z"
    },
    "papermill": {
     "duration": 0.036413,
     "end_time": "2024-06-07T05:26:09.864133",
     "exception": false,
     "start_time": "2024-06-07T05:26:09.827720",
     "status": "completed"
    },
    "tags": []
   },
   "outputs": [],
   "source": [
    "# Removing dummy variable trap\n",
    "X_sj = X_sj.drop(1990, axis=1)\n",
    "X_iq = X_iq.drop(2000, axis=1)"
   ]
  },
  {
   "cell_type": "code",
   "execution_count": 31,
   "id": "ebe91e1c",
   "metadata": {
    "execution": {
     "iopub.execute_input": "2024-06-07T05:26:09.909720Z",
     "iopub.status.busy": "2024-06-07T05:26:09.909239Z",
     "iopub.status.idle": "2024-06-07T05:26:09.919845Z",
     "shell.execute_reply": "2024-06-07T05:26:09.918580Z"
    },
    "papermill": {
     "duration": 0.036981,
     "end_time": "2024-06-07T05:26:09.922706",
     "exception": false,
     "start_time": "2024-06-07T05:26:09.885725",
     "status": "completed"
    },
    "tags": []
   },
   "outputs": [],
   "source": [
    "x_sj_arr = X_sj.iloc[:].values\n",
    "x_iq_arr = X_iq.iloc[:].values"
   ]
  },
  {
   "cell_type": "code",
   "execution_count": 32,
   "id": "ab9407c6",
   "metadata": {
    "execution": {
     "iopub.execute_input": "2024-06-07T05:26:09.968939Z",
     "iopub.status.busy": "2024-06-07T05:26:09.968452Z",
     "iopub.status.idle": "2024-06-07T05:26:09.979297Z",
     "shell.execute_reply": "2024-06-07T05:26:09.978045Z"
    },
    "papermill": {
     "duration": 0.037478,
     "end_time": "2024-06-07T05:26:09.982199",
     "exception": false,
     "start_time": "2024-06-07T05:26:09.944721",
     "status": "completed"
    },
    "tags": []
   },
   "outputs": [],
   "source": [
    "# np.random.seed(23)\n",
    "np.random.shuffle(x_sj_arr)\n",
    "np.random.shuffle(x_iq_arr)"
   ]
  },
  {
   "cell_type": "code",
   "execution_count": 33,
   "id": "4623cc18",
   "metadata": {
    "execution": {
     "iopub.execute_input": "2024-06-07T05:26:10.028009Z",
     "iopub.status.busy": "2024-06-07T05:26:10.027536Z",
     "iopub.status.idle": "2024-06-07T05:26:10.321808Z",
     "shell.execute_reply": "2024-06-07T05:26:10.320582Z"
    },
    "papermill": {
     "duration": 0.321093,
     "end_time": "2024-06-07T05:26:10.325022",
     "exception": false,
     "start_time": "2024-06-07T05:26:10.003929",
     "status": "completed"
    },
    "tags": []
   },
   "outputs": [],
   "source": [
    "from sklearn.model_selection import train_test_split\n",
    "\n",
    "X_sj_train, X_sj_test, y_sj_train, y_sj_test = train_test_split(x_sj_arr[:, :-1], x_sj_arr[:, -1], test_size=0.2)\n",
    "X_iq_train, X_iq_test, y_iq_train, y_iq_test = train_test_split(x_iq_arr[:, :-1], x_iq_arr[:, -1], test_size=0.2)"
   ]
  },
  {
   "cell_type": "code",
   "execution_count": 34,
   "id": "0eb66abf",
   "metadata": {
    "execution": {
     "iopub.execute_input": "2024-06-07T05:26:10.371233Z",
     "iopub.status.busy": "2024-06-07T05:26:10.370693Z",
     "iopub.status.idle": "2024-06-07T05:26:10.387761Z",
     "shell.execute_reply": "2024-06-07T05:26:10.386485Z"
    },
    "papermill": {
     "duration": 0.044293,
     "end_time": "2024-06-07T05:26:10.390923",
     "exception": false,
     "start_time": "2024-06-07T05:26:10.346630",
     "status": "completed"
    },
    "tags": []
   },
   "outputs": [],
   "source": [
    "from sklearn.preprocessing import StandardScaler\n",
    "\n",
    "sj_scaler = StandardScaler()\n",
    "X_sj_train = sj_scaler.fit_transform(X_sj_train)\n",
    "X_sj_test = sj_scaler.transform(X_sj_test)"
   ]
  },
  {
   "cell_type": "code",
   "execution_count": 35,
   "id": "143ebb61",
   "metadata": {
    "execution": {
     "iopub.execute_input": "2024-06-07T05:26:10.436121Z",
     "iopub.status.busy": "2024-06-07T05:26:10.435018Z",
     "iopub.status.idle": "2024-06-07T05:26:10.817532Z",
     "shell.execute_reply": "2024-06-07T05:26:10.816087Z"
    },
    "papermill": {
     "duration": 0.408019,
     "end_time": "2024-06-07T05:26:10.820136",
     "exception": false,
     "start_time": "2024-06-07T05:26:10.412117",
     "status": "completed"
    },
    "tags": []
   },
   "outputs": [
    {
     "data": {
      "image/png": "[encoded data removed]",
      "text/plain": [
       "<Figure size 1200x1200 with 1 Axes>"
      ]
     },
     "metadata": {},
     "output_type": "display_data"
    }
   ],
   "source": [
    "plt.plot(X_sj_train, y_sj_train, marker='.', color='green', linestyle='none')\n",
    "plt.show()"
   ]
  },
  {
   "cell_type": "code",
   "execution_count": 36,
   "id": "a27d8033",
   "metadata": {
    "execution": {
     "iopub.execute_input": "2024-06-07T05:26:10.867872Z",
     "iopub.status.busy": "2024-06-07T05:26:10.867377Z",
     "iopub.status.idle": "2024-06-07T05:26:11.045489Z",
     "shell.execute_reply": "2024-06-07T05:26:11.044173Z"
    },
    "papermill": {
     "duration": 0.204551,
     "end_time": "2024-06-07T05:26:11.048244",
     "exception": false,
     "start_time": "2024-06-07T05:26:10.843693",
     "status": "completed"
    },
    "tags": []
   },
   "outputs": [
    {
     "data": {
      "text/html": [
       "<style>#sk-container-id-1 {color: black;background-color: white;}#sk-container-id-1 pre{padding: 0;}#sk-container-id-1 div.sk-toggleable {background-color: white;}#sk-container-id-1 label.sk-toggleable__label {cursor: pointer;display: block;width: 100%;margin-bottom: 0;padding: 0.3em;box-sizing: border-box;text-align: center;}#sk-container-id-1 label.sk-toggleable__label-arrow:before {content: \"▸\";float: left;margin-right: 0.25em;color: #696969;}#sk-container-id-1 label.sk-toggleable__label-arrow:hover:before {color: black;}#sk-container-id-1 div.sk-estimator:hover label.sk-toggleable__label-arrow:before {color: black;}#sk-container-id-1 div.sk-toggleable__content {max-height: 0;max-width: 0;overflow: hidden;text-align: left;background-color: #f0f8ff;}#sk-container-id-1 div.sk-toggleable__content pre {margin: 0.2em;color: black;border-radius: 0.25em;background-color: #f0f8ff;}#sk-container-id-1 input.sk-toggleable__control:checked~div.sk-toggleable__content {max-height: 200px;max-width: 100%;overflow: auto;}#sk-container-id-1 input.sk-toggleable__control:checked~label.sk-toggleable__label-arrow:before {content: \"▾\";}#sk-container-id-1 div.sk-estimator input.sk-toggleable__control:checked~label.sk-toggleable__label {background-color: #d4ebff;}#sk-container-id-1 div.sk-label input.sk-toggleable__control:checked~label.sk-toggleable__label {background-color: #d4ebff;}#sk-container-id-1 input.sk-hidden--visually {border: 0;clip: rect(1px 1px 1px 1px);clip: rect(1px, 1px, 1px, 1px);height: 1px;margin: -1px;overflow: hidden;padding: 0;position: absolute;width: 1px;}#sk-container-id-1 div.sk-estimator {font-family: monospace;background-color: #f0f8ff;border: 1px dotted black;border-radius: 0.25em;box-sizing: border-box;margin-bottom: 0.5em;}#sk-container-id-1 div.sk-estimator:hover {background-color: #d4ebff;}#sk-container-id-1 div.sk-parallel-item::after {content: \"\";width: 100%;border-bottom: 1px solid gray;flex-grow: 1;}#sk-container-id-1 div.sk-label:hover label.sk-toggleable__label {background-color: #d4ebff;}#sk-container-id-1 div.sk-serial::before {content: \"\";position: absolute;border-left: 1px solid gray;box-sizing: border-box;top: 0;bottom: 0;left: 50%;z-index: 0;}#sk-container-id-1 div.sk-serial {display: flex;flex-direction: column;align-items: center;background-color: white;padding-right: 0.2em;padding-left: 0.2em;position: relative;}#sk-container-id-1 div.sk-item {position: relative;z-index: 1;}#sk-container-id-1 div.sk-parallel {display: flex;align-items: stretch;justify-content: center;background-color: white;position: relative;}#sk-container-id-1 div.sk-item::before, #sk-container-id-1 div.sk-parallel-item::before {content: \"\";position: absolute;border-left: 1px solid gray;box-sizing: border-box;top: 0;bottom: 0;left: 50%;z-index: -1;}#sk-container-id-1 div.sk-parallel-item {display: flex;flex-direction: column;z-index: 1;position: relative;background-color: white;}#sk-container-id-1 div.sk-parallel-item:first-child::after {align-self: flex-end;width: 50%;}#sk-container-id-1 div.sk-parallel-item:last-child::after {align-self: flex-start;width: 50%;}#sk-container-id-1 div.sk-parallel-item:only-child::after {width: 0;}#sk-container-id-1 div.sk-dashed-wrapped {border: 1px dashed gray;margin: 0 0.4em 0.5em 0.4em;box-sizing: border-box;padding-bottom: 0.4em;background-color: white;}#sk-container-id-1 div.sk-label label {font-family: monospace;font-weight: bold;display: inline-block;line-height: 1.2em;}#sk-container-id-1 div.sk-label-container {text-align: center;}#sk-container-id-1 div.sk-container {/* jupyter's `normalize.less` sets `[hidden] { display: none; }` but bootstrap.min.css set `[hidden] { display: none !important; }` so we also need the `!important` here to be able to override the default hidden behavior on the sphinx rendered scikit-learn.org. See: https://github.com/scikit-learn/scikit-learn/issues/21755 */display: inline-block !important;position: relative;}#sk-container-id-1 div.sk-text-repr-fallback {display: none;}</style><div id=\"sk-container-id-1\" class=\"sk-top-container\"><div class=\"sk-text-repr-fallback\"><pre>KNeighborsRegressor()</pre><b>In a Jupyter environment, please rerun this cell to show the HTML representation or trust the notebook. <br />On GitHub, the HTML representation is unable to render, please try loading this page with nbviewer.org.</b></div><div class=\"sk-container\" hidden><div class=\"sk-item\"><div class=\"sk-estimator sk-toggleable\"><input class=\"sk-toggleable__control sk-hidden--visually\" id=\"sk-estimator-id-1\" type=\"checkbox\" checked><label for=\"sk-estimator-id-1\" class=\"sk-toggleable__label sk-toggleable__label-arrow\">KNeighborsRegressor</label><div class=\"sk-toggleable__content\"><pre>KNeighborsRegressor()</pre></div></div></div></div></div>"
      ],
      "text/plain": [
       "KNeighborsRegressor()"
      ]
     },
     "execution_count": 36,
     "metadata": {},
     "output_type": "execute_result"
    }
   ],
   "source": [
    "from sklearn.neighbors import KNeighborsRegressor\n",
    "\n",
    "sj_knn = KNeighborsRegressor(n_neighbors=5)\n",
    "\n",
    "sj_knn.fit(X_sj_train, y_sj_train)"
   ]
  },
  {
   "cell_type": "code",
   "execution_count": 37,
   "id": "b7364cbe",
   "metadata": {
    "execution": {
     "iopub.execute_input": "2024-06-07T05:26:11.097951Z",
     "iopub.status.busy": "2024-06-07T05:26:11.097476Z",
     "iopub.status.idle": "2024-06-07T05:26:11.174461Z",
     "shell.execute_reply": "2024-06-07T05:26:11.172720Z"
    },
    "papermill": {
     "duration": 0.106351,
     "end_time": "2024-06-07T05:26:11.177609",
     "exception": false,
     "start_time": "2024-06-07T05:26:11.071258",
     "status": "completed"
    },
    "tags": []
   },
   "outputs": [
    {
     "name": "stdout",
     "output_type": "stream",
     "text": [
      "17.619148936170212\n"
     ]
    }
   ],
   "source": [
    "y_sj_pred = sj_knn.predict(X_sj_test)\n",
    "from sklearn.metrics import mean_absolute_error\n",
    "\n",
    "print(mean_absolute_error(y_sj_test, y_sj_pred))\n",
    "iq_scaler = StandardScaler()\n",
    "X_iq_train = iq_scaler.fit_transform(X_iq_train)\n",
    "X_iq_test = iq_scaler.transform(X_iq_test)"
   ]
  },
  {
   "cell_type": "code",
   "execution_count": 38,
   "id": "d2186115",
   "metadata": {
    "execution": {
     "iopub.execute_input": "2024-06-07T05:26:11.226043Z",
     "iopub.status.busy": "2024-06-07T05:26:11.225606Z",
     "iopub.status.idle": "2024-06-07T05:26:11.991919Z",
     "shell.execute_reply": "2024-06-07T05:26:11.990721Z"
    },
    "papermill": {
     "duration": 0.793851,
     "end_time": "2024-06-07T05:26:11.994939",
     "exception": false,
     "start_time": "2024-06-07T05:26:11.201088",
     "status": "completed"
    },
    "tags": []
   },
   "outputs": [
    {
     "name": "stdout",
     "output_type": "stream",
     "text": [
      "5.467307692307693\n"
     ]
    },
    {
     "data": {
      "text/plain": [
       "15.668722737493473"
      ]
     },
     "execution_count": 38,
     "metadata": {},
     "output_type": "execute_result"
    }
   ],
   "source": [
    "iq_knn = KNeighborsRegressor(n_neighbors=5)\n",
    "\n",
    "iq_knn.fit(X_iq_train, y_iq_train)\n",
    "y_iq_pred = iq_knn.predict(X_iq_test)\n",
    "print(mean_absolute_error(y_iq_test, y_iq_pred))\n",
    "from sklearn.ensemble import RandomForestRegressor\n",
    "\n",
    "sj_ada = RandomForestRegressor(n_estimators=50, max_depth=15)\n",
    "sj_ada.fit(X_sj_train, y_sj_train)\n",
    "\n",
    "y_sj_pred = sj_ada.predict(X_sj_test)\n",
    "\n",
    "mean_absolute_error(y_sj_test, y_sj_pred)"
   ]
  },
  {
   "cell_type": "code",
   "execution_count": 39,
   "id": "aba7498d",
   "metadata": {
    "execution": {
     "iopub.execute_input": "2024-06-07T05:26:12.045791Z",
     "iopub.status.busy": "2024-06-07T05:26:12.045290Z",
     "iopub.status.idle": "2024-06-07T05:26:12.428169Z",
     "shell.execute_reply": "2024-06-07T05:26:12.427033Z"
    },
    "papermill": {
     "duration": 0.411393,
     "end_time": "2024-06-07T05:26:12.430891",
     "exception": false,
     "start_time": "2024-06-07T05:26:12.019498",
     "status": "completed"
    },
    "tags": []
   },
   "outputs": [
    {
     "data": {
      "text/plain": [
       "6.3365901847150194"
      ]
     },
     "execution_count": 39,
     "metadata": {},
     "output_type": "execute_result"
    }
   ],
   "source": [
    "iq_ada = RandomForestRegressor(n_estimators=50, max_depth=15)\n",
    "iq_ada.fit(X_iq_train, y_iq_train)\n",
    "\n",
    "y_iq_pred = iq_ada.predict(X_iq_test)\n",
    "\n",
    "mean_absolute_error(y_iq_test, y_iq_pred)"
   ]
  },
  {
   "cell_type": "code",
   "execution_count": 40,
   "id": "87b9d22c",
   "metadata": {
    "execution": {
     "iopub.execute_input": "2024-06-07T05:26:12.480788Z",
     "iopub.status.busy": "2024-06-07T05:26:12.480299Z",
     "iopub.status.idle": "2024-06-07T05:26:12.487712Z",
     "shell.execute_reply": "2024-06-07T05:26:12.486486Z"
    },
    "papermill": {
     "duration": 0.035885,
     "end_time": "2024-06-07T05:26:12.490361",
     "exception": false,
     "start_time": "2024-06-07T05:26:12.454476",
     "status": "completed"
    },
    "tags": []
   },
   "outputs": [],
   "source": [
    "from sklearn.model_selection import GridSearchCV\n",
    "\n",
    "knn_parameters = [{'algorithm':['ball_tree'], 'leaf_size':[25]},\n",
    "                  {'algorithm':['kd_tree'], 'leaf_size':[25]},\n",
    "                  {'algorithm':['brute']}]\n",
    "\n",
    "sj_knn_grid_cv = GridSearchCV(estimator=sj_knn, param_grid=knn_parameters,\n",
    "                              scoring='neg_mean_absolute_error', cv=5)"
   ]
  },
  {
   "cell_type": "code",
   "execution_count": 41,
   "id": "59baa663",
   "metadata": {
    "execution": {
     "iopub.execute_input": "2024-06-07T05:26:12.539918Z",
     "iopub.status.busy": "2024-06-07T05:26:12.539405Z",
     "iopub.status.idle": "2024-06-07T05:26:12.664357Z",
     "shell.execute_reply": "2024-06-07T05:26:12.662803Z"
    },
    "papermill": {
     "duration": 0.153568,
     "end_time": "2024-06-07T05:26:12.667310",
     "exception": false,
     "start_time": "2024-06-07T05:26:12.513742",
     "status": "completed"
    },
    "tags": []
   },
   "outputs": [
    {
     "name": "stdout",
     "output_type": "stream",
     "text": [
      "-19.43709888143177\n",
      "{'algorithm': 'ball_tree', 'leaf_size': 25}\n"
     ]
    }
   ],
   "source": [
    "sj_knn_grid_cv = sj_knn_grid_cv.fit(X_sj_train, y_sj_train)\n",
    "\n",
    "# sj_knn_grid_cv.predict(X_sj_test)\n",
    "\n",
    "# mean_absolute_error(y_sj_test, sj_knn_grid_cv.predict(X_sj_test))\n",
    "print(sj_knn_grid_cv.best_score_)\n",
    "print(sj_knn_grid_cv.best_params_)"
   ]
  }
 ],
 "metadata": {
  "kaggle": {
   "accelerator": "none",
   "dataSources": [
    {
     "datasetId": 5125916,
     "sourceId": 8572430,
     "sourceType": "datasetVersion"
    }
   ],
   "dockerImageVersionId": 30715,
   "isGpuEnabled": false,
   "isInternetEnabled": false,
   "language": "python",
   "sourceType": "notebook"
  },
  "kernelspec": {
   "display_name": "Python 3",
   "language": "python",
   "name": "python3"
  },
  "language_info": {
   "codemirror_mode": {
    "name": "ipython",
    "version": 3
   },
   "file_extension": ".py",
   "mimetype": "text/x-python",
   "name": "python",
   "nbconvert_exporter": "python",
   "pygments_lexer": "ipython3",
   "version": "3.10.13"
  },
  "papermill": {
   "default_parameters": {},
   "duration": 13.684848,
   "end_time": "2024-06-07T05:26:13.414614",
   "environment_variables": {},
   "exception": null,
   "input_path": "__notebook__.ipynb",
   "output_path": "__notebook__.ipynb",
   "parameters": {},
   "start_time": "2024-06-07T05:25:59.729766",
   "version": "2.5.0"
  }
 },
 "nbformat": 4,
 "nbformat_minor": 5
}
